{
 "cells": [
  {
   "cell_type": "code",
   "execution_count": 2,
   "metadata": {},
   "outputs": [],
   "source": [
    "import pandas as pd\n",
    "import numpy as np\n",
    "import seaborn as sns\n",
    "import matplotlib.pyplot as plt\n",
    "\n",
    "\n",
    "\n",
    "import warnings\n",
    "warnings.filterwarnings('ignore')"
   ]
  },
  {
   "cell_type": "code",
   "execution_count": 3,
   "metadata": {},
   "outputs": [],
   "source": [
    "# Load the datasets\n",
    "matches = pd.read_csv(\"match_info_data.csv\")\n",
    "deliveries = pd.read_csv(\"match_data.csv\")"
   ]
  },
  {
   "cell_type": "code",
   "execution_count": 4,
   "metadata": {},
   "outputs": [
    {
     "data": {
      "text/html": [
       "<div>\n",
       "<style scoped>\n",
       "    .dataframe tbody tr th:only-of-type {\n",
       "        vertical-align: middle;\n",
       "    }\n",
       "\n",
       "    .dataframe tbody tr th {\n",
       "        vertical-align: top;\n",
       "    }\n",
       "\n",
       "    .dataframe thead th {\n",
       "        text-align: right;\n",
       "    }\n",
       "</style>\n",
       "<table border=\"1\" class=\"dataframe\">\n",
       "  <thead>\n",
       "    <tr style=\"text-align: right;\">\n",
       "      <th></th>\n",
       "      <th>id</th>\n",
       "      <th>season</th>\n",
       "      <th>city</th>\n",
       "      <th>date</th>\n",
       "      <th>team1</th>\n",
       "      <th>team2</th>\n",
       "      <th>toss_winner</th>\n",
       "      <th>toss_decision</th>\n",
       "      <th>result</th>\n",
       "      <th>dl_applied</th>\n",
       "      <th>winner</th>\n",
       "      <th>win_by_runs</th>\n",
       "      <th>win_by_wickets</th>\n",
       "      <th>player_of_match</th>\n",
       "      <th>venue</th>\n",
       "      <th>umpire1</th>\n",
       "      <th>umpire2</th>\n",
       "      <th>umpire3</th>\n",
       "    </tr>\n",
       "  </thead>\n",
       "  <tbody>\n",
       "    <tr>\n",
       "      <th>0</th>\n",
       "      <td>1370353</td>\n",
       "      <td>2023</td>\n",
       "      <td>Ahmedabad</td>\n",
       "      <td>2023/05/29</td>\n",
       "      <td>Gujarat Titans</td>\n",
       "      <td>Chennai Super Kings</td>\n",
       "      <td>Chennai Super Kings</td>\n",
       "      <td>field</td>\n",
       "      <td>D/L</td>\n",
       "      <td>1</td>\n",
       "      <td>Chennai Super Kings</td>\n",
       "      <td>0</td>\n",
       "      <td>5</td>\n",
       "      <td>DP Conway</td>\n",
       "      <td>Narendra Modi Stadium, Ahmedabad</td>\n",
       "      <td>Nitin Menon</td>\n",
       "      <td>RJ Tucker</td>\n",
       "      <td>KN Ananthapadmanabhan</td>\n",
       "    </tr>\n",
       "    <tr>\n",
       "      <th>1</th>\n",
       "      <td>1370352</td>\n",
       "      <td>2023</td>\n",
       "      <td>Ahmedabad</td>\n",
       "      <td>2023/05/26</td>\n",
       "      <td>Gujarat Titans</td>\n",
       "      <td>Mumbai Indians</td>\n",
       "      <td>Mumbai Indians</td>\n",
       "      <td>field</td>\n",
       "      <td>normal</td>\n",
       "      <td>0</td>\n",
       "      <td>Gujarat Titans</td>\n",
       "      <td>62</td>\n",
       "      <td>0</td>\n",
       "      <td>Shubman Gill</td>\n",
       "      <td>Narendra Modi Stadium, Ahmedabad</td>\n",
       "      <td>Nitin Menon</td>\n",
       "      <td>RJ Tucker</td>\n",
       "      <td>J Madanagopal</td>\n",
       "    </tr>\n",
       "    <tr>\n",
       "      <th>2</th>\n",
       "      <td>1370351</td>\n",
       "      <td>2023</td>\n",
       "      <td>Chennai</td>\n",
       "      <td>2023/05/24</td>\n",
       "      <td>Mumbai Indians</td>\n",
       "      <td>Lucknow Super Giants</td>\n",
       "      <td>Mumbai Indians</td>\n",
       "      <td>bat</td>\n",
       "      <td>normal</td>\n",
       "      <td>0</td>\n",
       "      <td>Mumbai Indians</td>\n",
       "      <td>81</td>\n",
       "      <td>0</td>\n",
       "      <td>Akash Madhwal</td>\n",
       "      <td>MA Chidambaram Stadium, Chepauk, Chennai</td>\n",
       "      <td>BNJ Oxenford</td>\n",
       "      <td>VK Sharma</td>\n",
       "      <td>CB Gaffaney</td>\n",
       "    </tr>\n",
       "    <tr>\n",
       "      <th>3</th>\n",
       "      <td>1370350</td>\n",
       "      <td>2023</td>\n",
       "      <td>Chennai</td>\n",
       "      <td>2023/05/23</td>\n",
       "      <td>Chennai Super Kings</td>\n",
       "      <td>Gujarat Titans</td>\n",
       "      <td>Gujarat Titans</td>\n",
       "      <td>field</td>\n",
       "      <td>normal</td>\n",
       "      <td>0</td>\n",
       "      <td>Chennai Super Kings</td>\n",
       "      <td>15</td>\n",
       "      <td>0</td>\n",
       "      <td>RD Gaikwad</td>\n",
       "      <td>MA Chidambaram Stadium, Chepauk, Chennai</td>\n",
       "      <td>AK Chaudhary</td>\n",
       "      <td>CB Gaffaney</td>\n",
       "      <td>BNJ Oxenford</td>\n",
       "    </tr>\n",
       "    <tr>\n",
       "      <th>4</th>\n",
       "      <td>1359543</td>\n",
       "      <td>2023</td>\n",
       "      <td>Mumbai</td>\n",
       "      <td>2023/05/21</td>\n",
       "      <td>Sunrisers Hyderabad</td>\n",
       "      <td>Mumbai Indians</td>\n",
       "      <td>Mumbai Indians</td>\n",
       "      <td>field</td>\n",
       "      <td>normal</td>\n",
       "      <td>0</td>\n",
       "      <td>Mumbai Indians</td>\n",
       "      <td>0</td>\n",
       "      <td>8</td>\n",
       "      <td>C Green</td>\n",
       "      <td>Wankhede Stadium, Mumbai</td>\n",
       "      <td>KN Ananthapadmanabhan</td>\n",
       "      <td>RJ Tucker</td>\n",
       "      <td>R Pandit</td>\n",
       "    </tr>\n",
       "  </tbody>\n",
       "</table>\n",
       "</div>"
      ],
      "text/plain": [
       "        id season       city        date                team1  \\\n",
       "0  1370353   2023  Ahmedabad  2023/05/29       Gujarat Titans   \n",
       "1  1370352   2023  Ahmedabad  2023/05/26       Gujarat Titans   \n",
       "2  1370351   2023    Chennai  2023/05/24       Mumbai Indians   \n",
       "3  1370350   2023    Chennai  2023/05/23  Chennai Super Kings   \n",
       "4  1359543   2023     Mumbai  2023/05/21  Sunrisers Hyderabad   \n",
       "\n",
       "                  team2          toss_winner toss_decision  result  \\\n",
       "0   Chennai Super Kings  Chennai Super Kings         field     D/L   \n",
       "1        Mumbai Indians       Mumbai Indians         field  normal   \n",
       "2  Lucknow Super Giants       Mumbai Indians           bat  normal   \n",
       "3        Gujarat Titans       Gujarat Titans         field  normal   \n",
       "4        Mumbai Indians       Mumbai Indians         field  normal   \n",
       "\n",
       "   dl_applied               winner  win_by_runs  win_by_wickets  \\\n",
       "0           1  Chennai Super Kings            0               5   \n",
       "1           0       Gujarat Titans           62               0   \n",
       "2           0       Mumbai Indians           81               0   \n",
       "3           0  Chennai Super Kings           15               0   \n",
       "4           0       Mumbai Indians            0               8   \n",
       "\n",
       "  player_of_match                                     venue  \\\n",
       "0       DP Conway          Narendra Modi Stadium, Ahmedabad   \n",
       "1    Shubman Gill          Narendra Modi Stadium, Ahmedabad   \n",
       "2   Akash Madhwal  MA Chidambaram Stadium, Chepauk, Chennai   \n",
       "3      RD Gaikwad  MA Chidambaram Stadium, Chepauk, Chennai   \n",
       "4         C Green                  Wankhede Stadium, Mumbai   \n",
       "\n",
       "                 umpire1      umpire2                umpire3  \n",
       "0            Nitin Menon    RJ Tucker  KN Ananthapadmanabhan  \n",
       "1            Nitin Menon    RJ Tucker          J Madanagopal  \n",
       "2           BNJ Oxenford    VK Sharma            CB Gaffaney  \n",
       "3           AK Chaudhary  CB Gaffaney           BNJ Oxenford  \n",
       "4  KN Ananthapadmanabhan    RJ Tucker               R Pandit  "
      ]
     },
     "execution_count": 4,
     "metadata": {},
     "output_type": "execute_result"
    }
   ],
   "source": [
    "matches.head()"
   ]
  },
  {
   "cell_type": "code",
   "execution_count": 5,
   "metadata": {},
   "outputs": [
    {
     "data": {
      "text/html": [
       "<div>\n",
       "<style scoped>\n",
       "    .dataframe tbody tr th:only-of-type {\n",
       "        vertical-align: middle;\n",
       "    }\n",
       "\n",
       "    .dataframe tbody tr th {\n",
       "        vertical-align: top;\n",
       "    }\n",
       "\n",
       "    .dataframe thead th {\n",
       "        text-align: right;\n",
       "    }\n",
       "</style>\n",
       "<table border=\"1\" class=\"dataframe\">\n",
       "  <thead>\n",
       "    <tr style=\"text-align: right;\">\n",
       "      <th></th>\n",
       "      <th>match_id</th>\n",
       "      <th>season</th>\n",
       "      <th>start_date</th>\n",
       "      <th>venue</th>\n",
       "      <th>innings</th>\n",
       "      <th>ball</th>\n",
       "      <th>batting_team</th>\n",
       "      <th>bowling_team</th>\n",
       "      <th>striker</th>\n",
       "      <th>non_striker</th>\n",
       "      <th>...</th>\n",
       "      <th>wides</th>\n",
       "      <th>noballs</th>\n",
       "      <th>byes</th>\n",
       "      <th>legbyes</th>\n",
       "      <th>penalty</th>\n",
       "      <th>wicket_type</th>\n",
       "      <th>player_dismissed</th>\n",
       "      <th>other_wicket_type</th>\n",
       "      <th>other_player_dismissed</th>\n",
       "      <th>cricsheet_id</th>\n",
       "    </tr>\n",
       "  </thead>\n",
       "  <tbody>\n",
       "    <tr>\n",
       "      <th>0</th>\n",
       "      <td>1370353</td>\n",
       "      <td>2023</td>\n",
       "      <td>2023-05-29</td>\n",
       "      <td>Narendra Modi Stadium, Ahmedabad</td>\n",
       "      <td>1</td>\n",
       "      <td>0.1</td>\n",
       "      <td>Gujarat Titans</td>\n",
       "      <td>Chennai Super Kings</td>\n",
       "      <td>WP Saha</td>\n",
       "      <td>Shubman Gill</td>\n",
       "      <td>...</td>\n",
       "      <td>NaN</td>\n",
       "      <td>NaN</td>\n",
       "      <td>NaN</td>\n",
       "      <td>NaN</td>\n",
       "      <td>NaN</td>\n",
       "      <td>NaN</td>\n",
       "      <td>NaN</td>\n",
       "      <td>NaN</td>\n",
       "      <td>NaN</td>\n",
       "      <td>1370353</td>\n",
       "    </tr>\n",
       "    <tr>\n",
       "      <th>1</th>\n",
       "      <td>1370353</td>\n",
       "      <td>2023</td>\n",
       "      <td>2023-05-29</td>\n",
       "      <td>Narendra Modi Stadium, Ahmedabad</td>\n",
       "      <td>1</td>\n",
       "      <td>0.2</td>\n",
       "      <td>Gujarat Titans</td>\n",
       "      <td>Chennai Super Kings</td>\n",
       "      <td>WP Saha</td>\n",
       "      <td>Shubman Gill</td>\n",
       "      <td>...</td>\n",
       "      <td>NaN</td>\n",
       "      <td>NaN</td>\n",
       "      <td>NaN</td>\n",
       "      <td>NaN</td>\n",
       "      <td>NaN</td>\n",
       "      <td>NaN</td>\n",
       "      <td>NaN</td>\n",
       "      <td>NaN</td>\n",
       "      <td>NaN</td>\n",
       "      <td>1370353</td>\n",
       "    </tr>\n",
       "    <tr>\n",
       "      <th>2</th>\n",
       "      <td>1370353</td>\n",
       "      <td>2023</td>\n",
       "      <td>2023-05-29</td>\n",
       "      <td>Narendra Modi Stadium, Ahmedabad</td>\n",
       "      <td>1</td>\n",
       "      <td>0.3</td>\n",
       "      <td>Gujarat Titans</td>\n",
       "      <td>Chennai Super Kings</td>\n",
       "      <td>WP Saha</td>\n",
       "      <td>Shubman Gill</td>\n",
       "      <td>...</td>\n",
       "      <td>NaN</td>\n",
       "      <td>NaN</td>\n",
       "      <td>NaN</td>\n",
       "      <td>NaN</td>\n",
       "      <td>NaN</td>\n",
       "      <td>NaN</td>\n",
       "      <td>NaN</td>\n",
       "      <td>NaN</td>\n",
       "      <td>NaN</td>\n",
       "      <td>1370353</td>\n",
       "    </tr>\n",
       "    <tr>\n",
       "      <th>3</th>\n",
       "      <td>1370353</td>\n",
       "      <td>2023</td>\n",
       "      <td>2023-05-29</td>\n",
       "      <td>Narendra Modi Stadium, Ahmedabad</td>\n",
       "      <td>1</td>\n",
       "      <td>0.4</td>\n",
       "      <td>Gujarat Titans</td>\n",
       "      <td>Chennai Super Kings</td>\n",
       "      <td>Shubman Gill</td>\n",
       "      <td>WP Saha</td>\n",
       "      <td>...</td>\n",
       "      <td>NaN</td>\n",
       "      <td>NaN</td>\n",
       "      <td>NaN</td>\n",
       "      <td>NaN</td>\n",
       "      <td>NaN</td>\n",
       "      <td>NaN</td>\n",
       "      <td>NaN</td>\n",
       "      <td>NaN</td>\n",
       "      <td>NaN</td>\n",
       "      <td>1370353</td>\n",
       "    </tr>\n",
       "    <tr>\n",
       "      <th>4</th>\n",
       "      <td>1370353</td>\n",
       "      <td>2023</td>\n",
       "      <td>2023-05-29</td>\n",
       "      <td>Narendra Modi Stadium, Ahmedabad</td>\n",
       "      <td>1</td>\n",
       "      <td>0.5</td>\n",
       "      <td>Gujarat Titans</td>\n",
       "      <td>Chennai Super Kings</td>\n",
       "      <td>WP Saha</td>\n",
       "      <td>Shubman Gill</td>\n",
       "      <td>...</td>\n",
       "      <td>NaN</td>\n",
       "      <td>NaN</td>\n",
       "      <td>NaN</td>\n",
       "      <td>NaN</td>\n",
       "      <td>NaN</td>\n",
       "      <td>NaN</td>\n",
       "      <td>NaN</td>\n",
       "      <td>NaN</td>\n",
       "      <td>NaN</td>\n",
       "      <td>1370353</td>\n",
       "    </tr>\n",
       "  </tbody>\n",
       "</table>\n",
       "<p>5 rows × 23 columns</p>\n",
       "</div>"
      ],
      "text/plain": [
       "   match_id season  start_date                             venue  innings  \\\n",
       "0   1370353   2023  2023-05-29  Narendra Modi Stadium, Ahmedabad        1   \n",
       "1   1370353   2023  2023-05-29  Narendra Modi Stadium, Ahmedabad        1   \n",
       "2   1370353   2023  2023-05-29  Narendra Modi Stadium, Ahmedabad        1   \n",
       "3   1370353   2023  2023-05-29  Narendra Modi Stadium, Ahmedabad        1   \n",
       "4   1370353   2023  2023-05-29  Narendra Modi Stadium, Ahmedabad        1   \n",
       "\n",
       "   ball    batting_team         bowling_team       striker   non_striker  ...  \\\n",
       "0   0.1  Gujarat Titans  Chennai Super Kings       WP Saha  Shubman Gill  ...   \n",
       "1   0.2  Gujarat Titans  Chennai Super Kings       WP Saha  Shubman Gill  ...   \n",
       "2   0.3  Gujarat Titans  Chennai Super Kings       WP Saha  Shubman Gill  ...   \n",
       "3   0.4  Gujarat Titans  Chennai Super Kings  Shubman Gill       WP Saha  ...   \n",
       "4   0.5  Gujarat Titans  Chennai Super Kings       WP Saha  Shubman Gill  ...   \n",
       "\n",
       "  wides  noballs  byes  legbyes  penalty  wicket_type  player_dismissed  \\\n",
       "0   NaN      NaN   NaN      NaN      NaN          NaN               NaN   \n",
       "1   NaN      NaN   NaN      NaN      NaN          NaN               NaN   \n",
       "2   NaN      NaN   NaN      NaN      NaN          NaN               NaN   \n",
       "3   NaN      NaN   NaN      NaN      NaN          NaN               NaN   \n",
       "4   NaN      NaN   NaN      NaN      NaN          NaN               NaN   \n",
       "\n",
       "   other_wicket_type other_player_dismissed cricsheet_id  \n",
       "0                NaN                    NaN      1370353  \n",
       "1                NaN                    NaN      1370353  \n",
       "2                NaN                    NaN      1370353  \n",
       "3                NaN                    NaN      1370353  \n",
       "4                NaN                    NaN      1370353  \n",
       "\n",
       "[5 rows x 23 columns]"
      ]
     },
     "execution_count": 5,
     "metadata": {},
     "output_type": "execute_result"
    }
   ],
   "source": [
    "deliveries.head()"
   ]
  },
  {
   "cell_type": "code",
   "execution_count": 6,
   "metadata": {},
   "outputs": [
    {
     "data": {
      "text/plain": [
       "Index(['id', 'season', 'city', 'date', 'team1', 'team2', 'toss_winner',\n",
       "       'toss_decision', 'result', 'dl_applied', 'winner', 'win_by_runs',\n",
       "       'win_by_wickets', 'player_of_match', 'venue', 'umpire1', 'umpire2',\n",
       "       'umpire3'],\n",
       "      dtype='object')"
      ]
     },
     "execution_count": 6,
     "metadata": {},
     "output_type": "execute_result"
    }
   ],
   "source": [
    "matches.columns"
   ]
  },
  {
   "cell_type": "code",
   "execution_count": 7,
   "metadata": {},
   "outputs": [
    {
     "data": {
      "text/plain": [
       "Index(['match_id', 'season', 'start_date', 'venue', 'innings', 'ball',\n",
       "       'batting_team', 'bowling_team', 'striker', 'non_striker', 'bowler',\n",
       "       'runs_off_bat', 'extras', 'wides', 'noballs', 'byes', 'legbyes',\n",
       "       'penalty', 'wicket_type', 'player_dismissed', 'other_wicket_type',\n",
       "       'other_player_dismissed', 'cricsheet_id'],\n",
       "      dtype='object')"
      ]
     },
     "execution_count": 7,
     "metadata": {},
     "output_type": "execute_result"
    }
   ],
   "source": [
    "deliveries.columns"
   ]
  },
  {
   "cell_type": "code",
   "execution_count": 8,
   "metadata": {},
   "outputs": [
    {
     "name": "stdout",
     "output_type": "stream",
     "text": [
      "Missing values in Matches dataset:\n",
      "id                  0\n",
      "season              0\n",
      "city               51\n",
      "date                0\n",
      "team1               0\n",
      "team2               0\n",
      "toss_winner         0\n",
      "toss_decision       0\n",
      "result              0\n",
      "dl_applied          0\n",
      "winner             19\n",
      "win_by_runs         0\n",
      "win_by_wickets      0\n",
      "player_of_match     5\n",
      "venue               0\n",
      "umpire1             0\n",
      "umpire2             0\n",
      "umpire3             3\n",
      "dtype: int64\n"
     ]
    }
   ],
   "source": [
    "# Check for missing values\n",
    "print(\"Missing values in Matches dataset:\")\n",
    "print(matches.isnull().sum())"
   ]
  },
  {
   "cell_type": "code",
   "execution_count": 9,
   "metadata": {},
   "outputs": [],
   "source": [
    "# Handling missing values \n",
    "matches['city'].fillna(\"Unknown\", inplace=True)"
   ]
  },
  {
   "cell_type": "code",
   "execution_count": 10,
   "metadata": {},
   "outputs": [],
   "source": [
    "matches['winner'].fillna(\"No Result\",inplace=True)"
   ]
  },
  {
   "cell_type": "code",
   "execution_count": 11,
   "metadata": {},
   "outputs": [],
   "source": [
    "matches['player_of_match'].fillna(\"Unknown\", inplace=True)"
   ]
  },
  {
   "cell_type": "code",
   "execution_count": 12,
   "metadata": {},
   "outputs": [],
   "source": [
    "matches['umpire3'].fillna(\"Unknown\", inplace=True)"
   ]
  },
  {
   "cell_type": "code",
   "execution_count": 13,
   "metadata": {},
   "outputs": [
    {
     "name": "stdout",
     "output_type": "stream",
     "text": [
      "id                 0\n",
      "season             0\n",
      "city               0\n",
      "date               0\n",
      "team1              0\n",
      "team2              0\n",
      "toss_winner        0\n",
      "toss_decision      0\n",
      "result             0\n",
      "dl_applied         0\n",
      "winner             0\n",
      "win_by_runs        0\n",
      "win_by_wickets     0\n",
      "player_of_match    0\n",
      "venue              0\n",
      "umpire1            0\n",
      "umpire2            0\n",
      "umpire3            0\n",
      "dtype: int64\n"
     ]
    }
   ],
   "source": [
    "print(matches.isnull().sum())"
   ]
  },
  {
   "cell_type": "code",
   "execution_count": 14,
   "metadata": {},
   "outputs": [
    {
     "data": {
      "text/plain": [
       "(1024, 18)"
      ]
     },
     "execution_count": 14,
     "metadata": {},
     "output_type": "execute_result"
    }
   ],
   "source": [
    "matches.shape"
   ]
  },
  {
   "cell_type": "code",
   "execution_count": 15,
   "metadata": {},
   "outputs": [
    {
     "name": "stdout",
     "output_type": "stream",
     "text": [
      "                 id   dl_applied  win_by_runs  win_by_wickets\n",
      "count  1.024000e+03  1024.000000  1024.000000     1024.000000\n",
      "mean   8.687579e+05     0.020508    13.610352        3.286133\n",
      "std    3.528920e+05     0.141799    23.443273        3.375659\n",
      "min    3.359820e+05     0.000000     0.000000        0.000000\n",
      "25%    5.483138e+05     0.000000     0.000000        0.000000\n",
      "50%    8.298140e+05     0.000000     0.000000        3.000000\n",
      "75%    1.216503e+06     0.000000    19.000000        6.000000\n",
      "max    1.370353e+06     1.000000   146.000000       10.000000\n"
     ]
    }
   ],
   "source": [
    "print(matches.describe())"
   ]
  },
  {
   "cell_type": "code",
   "execution_count": 16,
   "metadata": {},
   "outputs": [
    {
     "name": "stdout",
     "output_type": "stream",
     "text": [
      "<class 'pandas.core.frame.DataFrame'>\n",
      "RangeIndex: 1024 entries, 0 to 1023\n",
      "Data columns (total 18 columns):\n",
      " #   Column           Non-Null Count  Dtype \n",
      "---  ------           --------------  ----- \n",
      " 0   id               1024 non-null   int64 \n",
      " 1   season           1024 non-null   object\n",
      " 2   city             1024 non-null   object\n",
      " 3   date             1024 non-null   object\n",
      " 4   team1            1024 non-null   object\n",
      " 5   team2            1024 non-null   object\n",
      " 6   toss_winner      1024 non-null   object\n",
      " 7   toss_decision    1024 non-null   object\n",
      " 8   result           1024 non-null   object\n",
      " 9   dl_applied       1024 non-null   int64 \n",
      " 10  winner           1024 non-null   object\n",
      " 11  win_by_runs      1024 non-null   int64 \n",
      " 12  win_by_wickets   1024 non-null   int64 \n",
      " 13  player_of_match  1024 non-null   object\n",
      " 14  venue            1024 non-null   object\n",
      " 15  umpire1          1024 non-null   object\n",
      " 16  umpire2          1024 non-null   object\n",
      " 17  umpire3          1024 non-null   object\n",
      "dtypes: int64(4), object(14)\n",
      "memory usage: 144.1+ KB\n",
      "None\n"
     ]
    }
   ],
   "source": [
    "print(matches.info())"
   ]
  },
  {
   "cell_type": "code",
   "execution_count": 17,
   "metadata": {},
   "outputs": [
    {
     "name": "stdout",
     "output_type": "stream",
     "text": [
      "Duplicate rows:0\n"
     ]
    }
   ],
   "source": [
    "print(f\"Duplicate rows:{matches.duplicated().sum()}\")"
   ]
  },
  {
   "cell_type": "code",
   "execution_count": 18,
   "metadata": {},
   "outputs": [
    {
     "data": {
      "image/png": "[encoded data removed]",
      "text/plain": [
       "<Figure size 1200x600 with 1 Axes>"
      ]
     },
     "metadata": {},
     "output_type": "display_data"
    }
   ],
   "source": [
    "# total matches played each season \n",
    "\n",
    "plt.figure(figsize=(12,6))\n",
    "sns.countplot(x='season', data=matches, palette='viridis', order=matches['season'].value_counts().index)\n",
    "plt.title('Total Matches Played Each Season')\n",
    "plt.xlabel('Season')\n",
    "plt.ylabel('Number of Matches')\n",
    "plt.xticks(rotation=45)\n",
    "plt.show()"
   ]
  },
  {
   "cell_type": "markdown",
   "metadata": {},
   "source": [
    "Insights for \"Total Matches Played Each Season\"\n",
    "\n",
    "1. Overview:\n",
    "\n",
    "   This bar chart represents the total number of matches played in each IPL season from 2008 to 2023.\n",
    "\n",
    "2. Key Observations:\n",
    "\n",
    "   The highest number of matches were played in 2013 and 2023, with over 70 matches.\n",
    "   There is a noticeable dip in matches played in 2020 due to the impact of COVID-19.\n",
    "   Earlier seasons (2008–2010) had fewer matches compared to recent years.\n",
    "   The number of matches fluctuates based on league format changes, the addition of new teams, and external factors.\n",
    "\n",
    "3. Possible Explanations:\n",
    "\n",
    "   The IPL expanded over the years, adding new teams and changing the tournament format.\n",
    "   The COVID-19 pandemic (2020) led to a reduction in matches.\n",
    "   Some years saw an increase in teams, leading to more matches per season.\n",
    "\n",
    "4. Business/Cricketing Insights:\n",
    "\n",
    "   The number of matches directly affects revenue, viewership, and sponsorship deals.\n",
    "   Years with more matches could indicate a change in league format, such as adding playoff stages or new teams.\n",
    "   Analyzing trends in match counts can help predict future IPL scheduling and potential expansion."
   ]
  },
  {
   "cell_type": "code",
   "execution_count": 19,
   "metadata": {},
   "outputs": [
    {
     "data": {
      "image/png": "[encoded data removed]",
      "text/plain": [
       "<Figure size 1200x600 with 1 Axes>"
      ]
     },
     "metadata": {},
     "output_type": "display_data"
    }
   ],
   "source": [
    "# Most sucessful teams(Matches won)\n",
    "\n",
    "plt.figure(figsize=(12,6))\n",
    "sns.barplot(x=matches['winner'].value_counts().index, y=matches['winner'].value_counts(), palette='coolwarm')\n",
    "plt.title('Most Successful Teams (Total Wins)')\n",
    "plt.xlabel('Teams')\n",
    "plt.ylabel('Matches Won')\n",
    "plt.xticks(rotation=90)\n",
    "plt.show()"
   ]
  },
  {
   "cell_type": "markdown",
   "metadata": {},
   "source": [
    "Most Successful Teams (Total Wins) - Insights\n",
    "\n",
    "Mumbai Indians (MI) – The most successful IPL team with the highest number of wins.\n",
    "\n",
    "Chennai Super Kings (CSK) – Consistently dominant, with one of the highest win counts.\n",
    "\n",
    "Kolkata Knight Riders (KKR) – A strong performer with multiple IPL titles.\n",
    "\n",
    "Royal Challengers Bangalore (RCB) – Despite having star players, they lack consistency.\n",
    "\n",
    "Rajasthan Royals (RR) – Strong in early seasons but less dominant in recent years.\n",
    "\n",
    "Punjab Kings (PBKS) – A mid-tier performer with fluctuating success.\n",
    "\n",
    "Sunrisers Hyderabad (SRH) – A competitive team with a fair number of wins.\n",
    "\n",
    "Delhi Capitals (DC) – Improved in recent seasons but historically inconsistent.\n",
    "\n",
    "Gujarat Titans (GT) & Lucknow Super Giants (LSG) – Newer teams showing early promise.\n",
    "\n",
    "Defunct teams like Deccan Chargers, Gujarat Lions, and Rising Pune Supergiant had short but impactful stints."
   ]
  },
  {
   "cell_type": "code",
   "execution_count": 20,
   "metadata": {},
   "outputs": [
    {
     "data": {
      "image/png": "[encoded data removed]",
      "text/plain": [
       "<Figure size 600x600 with 1 Axes>"
      ]
     },
     "metadata": {},
     "output_type": "display_data"
    }
   ],
   "source": [
    "# Toss decision trends (bat vs field)\n",
    "\n",
    "plt.figure(figsize=(6,6))\n",
    "matches['toss_decision'].value_counts().plot(kind='pie', autopct='%1.1f%%', colors=['lightblue', 'orange'])\n",
    "plt.title('Toss Decisions: Bat vs Field')\n",
    "plt.ylabel('')\n",
    "plt.show()"
   ]
  },
  {
   "cell_type": "markdown",
   "metadata": {},
   "source": [
    "Insights on Toss Decision\n",
    "\n",
    "63.7% of teams chose to field first after winning the toss, indicating a preference for chasing the target rather than setting one.\n",
    "\n",
    "36.3% of teams opted to bat first, possibly in situations where batting-friendly pitches or scoreboard pressure were factors.\n",
    "\n",
    "The preference for fielding suggests teams trust their chasing abilities and expect pitch conditions to improve over time."
   ]
  },
  {
   "cell_type": "code",
   "execution_count": 21,
   "metadata": {},
   "outputs": [
    {
     "data": {
      "text/html": [
       "<div>\n",
       "<style scoped>\n",
       "    .dataframe tbody tr th:only-of-type {\n",
       "        vertical-align: middle;\n",
       "    }\n",
       "\n",
       "    .dataframe tbody tr th {\n",
       "        vertical-align: top;\n",
       "    }\n",
       "\n",
       "    .dataframe thead th {\n",
       "        text-align: right;\n",
       "    }\n",
       "</style>\n",
       "<table border=\"1\" class=\"dataframe\">\n",
       "  <thead>\n",
       "    <tr style=\"text-align: right;\">\n",
       "      <th></th>\n",
       "      <th>match_id</th>\n",
       "      <th>season</th>\n",
       "      <th>start_date</th>\n",
       "      <th>venue</th>\n",
       "      <th>innings</th>\n",
       "      <th>ball</th>\n",
       "      <th>batting_team</th>\n",
       "      <th>bowling_team</th>\n",
       "      <th>striker</th>\n",
       "      <th>non_striker</th>\n",
       "      <th>...</th>\n",
       "      <th>wides</th>\n",
       "      <th>noballs</th>\n",
       "      <th>byes</th>\n",
       "      <th>legbyes</th>\n",
       "      <th>penalty</th>\n",
       "      <th>wicket_type</th>\n",
       "      <th>player_dismissed</th>\n",
       "      <th>other_wicket_type</th>\n",
       "      <th>other_player_dismissed</th>\n",
       "      <th>cricsheet_id</th>\n",
       "    </tr>\n",
       "  </thead>\n",
       "  <tbody>\n",
       "    <tr>\n",
       "      <th>0</th>\n",
       "      <td>1370353</td>\n",
       "      <td>2023</td>\n",
       "      <td>2023-05-29</td>\n",
       "      <td>Narendra Modi Stadium, Ahmedabad</td>\n",
       "      <td>1</td>\n",
       "      <td>0.1</td>\n",
       "      <td>Gujarat Titans</td>\n",
       "      <td>Chennai Super Kings</td>\n",
       "      <td>WP Saha</td>\n",
       "      <td>Shubman Gill</td>\n",
       "      <td>...</td>\n",
       "      <td>NaN</td>\n",
       "      <td>NaN</td>\n",
       "      <td>NaN</td>\n",
       "      <td>NaN</td>\n",
       "      <td>NaN</td>\n",
       "      <td>NaN</td>\n",
       "      <td>NaN</td>\n",
       "      <td>NaN</td>\n",
       "      <td>NaN</td>\n",
       "      <td>1370353</td>\n",
       "    </tr>\n",
       "    <tr>\n",
       "      <th>1</th>\n",
       "      <td>1370353</td>\n",
       "      <td>2023</td>\n",
       "      <td>2023-05-29</td>\n",
       "      <td>Narendra Modi Stadium, Ahmedabad</td>\n",
       "      <td>1</td>\n",
       "      <td>0.2</td>\n",
       "      <td>Gujarat Titans</td>\n",
       "      <td>Chennai Super Kings</td>\n",
       "      <td>WP Saha</td>\n",
       "      <td>Shubman Gill</td>\n",
       "      <td>...</td>\n",
       "      <td>NaN</td>\n",
       "      <td>NaN</td>\n",
       "      <td>NaN</td>\n",
       "      <td>NaN</td>\n",
       "      <td>NaN</td>\n",
       "      <td>NaN</td>\n",
       "      <td>NaN</td>\n",
       "      <td>NaN</td>\n",
       "      <td>NaN</td>\n",
       "      <td>1370353</td>\n",
       "    </tr>\n",
       "    <tr>\n",
       "      <th>2</th>\n",
       "      <td>1370353</td>\n",
       "      <td>2023</td>\n",
       "      <td>2023-05-29</td>\n",
       "      <td>Narendra Modi Stadium, Ahmedabad</td>\n",
       "      <td>1</td>\n",
       "      <td>0.3</td>\n",
       "      <td>Gujarat Titans</td>\n",
       "      <td>Chennai Super Kings</td>\n",
       "      <td>WP Saha</td>\n",
       "      <td>Shubman Gill</td>\n",
       "      <td>...</td>\n",
       "      <td>NaN</td>\n",
       "      <td>NaN</td>\n",
       "      <td>NaN</td>\n",
       "      <td>NaN</td>\n",
       "      <td>NaN</td>\n",
       "      <td>NaN</td>\n",
       "      <td>NaN</td>\n",
       "      <td>NaN</td>\n",
       "      <td>NaN</td>\n",
       "      <td>1370353</td>\n",
       "    </tr>\n",
       "    <tr>\n",
       "      <th>3</th>\n",
       "      <td>1370353</td>\n",
       "      <td>2023</td>\n",
       "      <td>2023-05-29</td>\n",
       "      <td>Narendra Modi Stadium, Ahmedabad</td>\n",
       "      <td>1</td>\n",
       "      <td>0.4</td>\n",
       "      <td>Gujarat Titans</td>\n",
       "      <td>Chennai Super Kings</td>\n",
       "      <td>Shubman Gill</td>\n",
       "      <td>WP Saha</td>\n",
       "      <td>...</td>\n",
       "      <td>NaN</td>\n",
       "      <td>NaN</td>\n",
       "      <td>NaN</td>\n",
       "      <td>NaN</td>\n",
       "      <td>NaN</td>\n",
       "      <td>NaN</td>\n",
       "      <td>NaN</td>\n",
       "      <td>NaN</td>\n",
       "      <td>NaN</td>\n",
       "      <td>1370353</td>\n",
       "    </tr>\n",
       "    <tr>\n",
       "      <th>4</th>\n",
       "      <td>1370353</td>\n",
       "      <td>2023</td>\n",
       "      <td>2023-05-29</td>\n",
       "      <td>Narendra Modi Stadium, Ahmedabad</td>\n",
       "      <td>1</td>\n",
       "      <td>0.5</td>\n",
       "      <td>Gujarat Titans</td>\n",
       "      <td>Chennai Super Kings</td>\n",
       "      <td>WP Saha</td>\n",
       "      <td>Shubman Gill</td>\n",
       "      <td>...</td>\n",
       "      <td>NaN</td>\n",
       "      <td>NaN</td>\n",
       "      <td>NaN</td>\n",
       "      <td>NaN</td>\n",
       "      <td>NaN</td>\n",
       "      <td>NaN</td>\n",
       "      <td>NaN</td>\n",
       "      <td>NaN</td>\n",
       "      <td>NaN</td>\n",
       "      <td>1370353</td>\n",
       "    </tr>\n",
       "    <tr>\n",
       "      <th>...</th>\n",
       "      <td>...</td>\n",
       "      <td>...</td>\n",
       "      <td>...</td>\n",
       "      <td>...</td>\n",
       "      <td>...</td>\n",
       "      <td>...</td>\n",
       "      <td>...</td>\n",
       "      <td>...</td>\n",
       "      <td>...</td>\n",
       "      <td>...</td>\n",
       "      <td>...</td>\n",
       "      <td>...</td>\n",
       "      <td>...</td>\n",
       "      <td>...</td>\n",
       "      <td>...</td>\n",
       "      <td>...</td>\n",
       "      <td>...</td>\n",
       "      <td>...</td>\n",
       "      <td>...</td>\n",
       "      <td>...</td>\n",
       "      <td>...</td>\n",
       "    </tr>\n",
       "    <tr>\n",
       "      <th>243812</th>\n",
       "      <td>335982</td>\n",
       "      <td>2007/08</td>\n",
       "      <td>2008-04-18</td>\n",
       "      <td>M Chinnaswamy Stadium</td>\n",
       "      <td>2</td>\n",
       "      <td>14.5</td>\n",
       "      <td>Royal Challengers Bangalore</td>\n",
       "      <td>Kolkata Knight Riders</td>\n",
       "      <td>P Kumar</td>\n",
       "      <td>SB Joshi</td>\n",
       "      <td>...</td>\n",
       "      <td>NaN</td>\n",
       "      <td>NaN</td>\n",
       "      <td>NaN</td>\n",
       "      <td>1.0</td>\n",
       "      <td>NaN</td>\n",
       "      <td>NaN</td>\n",
       "      <td>NaN</td>\n",
       "      <td>NaN</td>\n",
       "      <td>NaN</td>\n",
       "      <td>335982</td>\n",
       "    </tr>\n",
       "    <tr>\n",
       "      <th>243813</th>\n",
       "      <td>335982</td>\n",
       "      <td>2007/08</td>\n",
       "      <td>2008-04-18</td>\n",
       "      <td>M Chinnaswamy Stadium</td>\n",
       "      <td>2</td>\n",
       "      <td>14.6</td>\n",
       "      <td>Royal Challengers Bangalore</td>\n",
       "      <td>Kolkata Knight Riders</td>\n",
       "      <td>SB Joshi</td>\n",
       "      <td>P Kumar</td>\n",
       "      <td>...</td>\n",
       "      <td>NaN</td>\n",
       "      <td>NaN</td>\n",
       "      <td>NaN</td>\n",
       "      <td>NaN</td>\n",
       "      <td>NaN</td>\n",
       "      <td>NaN</td>\n",
       "      <td>NaN</td>\n",
       "      <td>NaN</td>\n",
       "      <td>NaN</td>\n",
       "      <td>335982</td>\n",
       "    </tr>\n",
       "    <tr>\n",
       "      <th>243814</th>\n",
       "      <td>335982</td>\n",
       "      <td>2007/08</td>\n",
       "      <td>2008-04-18</td>\n",
       "      <td>M Chinnaswamy Stadium</td>\n",
       "      <td>2</td>\n",
       "      <td>14.7</td>\n",
       "      <td>Royal Challengers Bangalore</td>\n",
       "      <td>Kolkata Knight Riders</td>\n",
       "      <td>P Kumar</td>\n",
       "      <td>SB Joshi</td>\n",
       "      <td>...</td>\n",
       "      <td>NaN</td>\n",
       "      <td>NaN</td>\n",
       "      <td>NaN</td>\n",
       "      <td>NaN</td>\n",
       "      <td>NaN</td>\n",
       "      <td>NaN</td>\n",
       "      <td>NaN</td>\n",
       "      <td>NaN</td>\n",
       "      <td>NaN</td>\n",
       "      <td>335982</td>\n",
       "    </tr>\n",
       "    <tr>\n",
       "      <th>243815</th>\n",
       "      <td>335982</td>\n",
       "      <td>2007/08</td>\n",
       "      <td>2008-04-18</td>\n",
       "      <td>M Chinnaswamy Stadium</td>\n",
       "      <td>2</td>\n",
       "      <td>15.1</td>\n",
       "      <td>Royal Challengers Bangalore</td>\n",
       "      <td>Kolkata Knight Riders</td>\n",
       "      <td>SB Joshi</td>\n",
       "      <td>P Kumar</td>\n",
       "      <td>...</td>\n",
       "      <td>1.0</td>\n",
       "      <td>NaN</td>\n",
       "      <td>NaN</td>\n",
       "      <td>NaN</td>\n",
       "      <td>NaN</td>\n",
       "      <td>NaN</td>\n",
       "      <td>NaN</td>\n",
       "      <td>NaN</td>\n",
       "      <td>NaN</td>\n",
       "      <td>335982</td>\n",
       "    </tr>\n",
       "    <tr>\n",
       "      <th>243816</th>\n",
       "      <td>335982</td>\n",
       "      <td>2007/08</td>\n",
       "      <td>2008-04-18</td>\n",
       "      <td>M Chinnaswamy Stadium</td>\n",
       "      <td>2</td>\n",
       "      <td>15.2</td>\n",
       "      <td>Royal Challengers Bangalore</td>\n",
       "      <td>Kolkata Knight Riders</td>\n",
       "      <td>SB Joshi</td>\n",
       "      <td>P Kumar</td>\n",
       "      <td>...</td>\n",
       "      <td>NaN</td>\n",
       "      <td>NaN</td>\n",
       "      <td>NaN</td>\n",
       "      <td>NaN</td>\n",
       "      <td>NaN</td>\n",
       "      <td>caught</td>\n",
       "      <td>SB Joshi</td>\n",
       "      <td>NaN</td>\n",
       "      <td>NaN</td>\n",
       "      <td>335982</td>\n",
       "    </tr>\n",
       "  </tbody>\n",
       "</table>\n",
       "<p>243817 rows × 23 columns</p>\n",
       "</div>"
      ],
      "text/plain": [
       "        match_id   season  start_date                             venue  \\\n",
       "0        1370353     2023  2023-05-29  Narendra Modi Stadium, Ahmedabad   \n",
       "1        1370353     2023  2023-05-29  Narendra Modi Stadium, Ahmedabad   \n",
       "2        1370353     2023  2023-05-29  Narendra Modi Stadium, Ahmedabad   \n",
       "3        1370353     2023  2023-05-29  Narendra Modi Stadium, Ahmedabad   \n",
       "4        1370353     2023  2023-05-29  Narendra Modi Stadium, Ahmedabad   \n",
       "...          ...      ...         ...                               ...   \n",
       "243812    335982  2007/08  2008-04-18             M Chinnaswamy Stadium   \n",
       "243813    335982  2007/08  2008-04-18             M Chinnaswamy Stadium   \n",
       "243814    335982  2007/08  2008-04-18             M Chinnaswamy Stadium   \n",
       "243815    335982  2007/08  2008-04-18             M Chinnaswamy Stadium   \n",
       "243816    335982  2007/08  2008-04-18             M Chinnaswamy Stadium   \n",
       "\n",
       "        innings  ball                 batting_team           bowling_team  \\\n",
       "0             1   0.1               Gujarat Titans    Chennai Super Kings   \n",
       "1             1   0.2               Gujarat Titans    Chennai Super Kings   \n",
       "2             1   0.3               Gujarat Titans    Chennai Super Kings   \n",
       "3             1   0.4               Gujarat Titans    Chennai Super Kings   \n",
       "4             1   0.5               Gujarat Titans    Chennai Super Kings   \n",
       "...         ...   ...                          ...                    ...   \n",
       "243812        2  14.5  Royal Challengers Bangalore  Kolkata Knight Riders   \n",
       "243813        2  14.6  Royal Challengers Bangalore  Kolkata Knight Riders   \n",
       "243814        2  14.7  Royal Challengers Bangalore  Kolkata Knight Riders   \n",
       "243815        2  15.1  Royal Challengers Bangalore  Kolkata Knight Riders   \n",
       "243816        2  15.2  Royal Challengers Bangalore  Kolkata Knight Riders   \n",
       "\n",
       "             striker   non_striker  ... wides  noballs  byes  legbyes  \\\n",
       "0            WP Saha  Shubman Gill  ...   NaN      NaN   NaN      NaN   \n",
       "1            WP Saha  Shubman Gill  ...   NaN      NaN   NaN      NaN   \n",
       "2            WP Saha  Shubman Gill  ...   NaN      NaN   NaN      NaN   \n",
       "3       Shubman Gill       WP Saha  ...   NaN      NaN   NaN      NaN   \n",
       "4            WP Saha  Shubman Gill  ...   NaN      NaN   NaN      NaN   \n",
       "...              ...           ...  ...   ...      ...   ...      ...   \n",
       "243812       P Kumar      SB Joshi  ...   NaN      NaN   NaN      1.0   \n",
       "243813      SB Joshi       P Kumar  ...   NaN      NaN   NaN      NaN   \n",
       "243814       P Kumar      SB Joshi  ...   NaN      NaN   NaN      NaN   \n",
       "243815      SB Joshi       P Kumar  ...   1.0      NaN   NaN      NaN   \n",
       "243816      SB Joshi       P Kumar  ...   NaN      NaN   NaN      NaN   \n",
       "\n",
       "        penalty  wicket_type  player_dismissed  other_wicket_type  \\\n",
       "0           NaN          NaN               NaN                NaN   \n",
       "1           NaN          NaN               NaN                NaN   \n",
       "2           NaN          NaN               NaN                NaN   \n",
       "3           NaN          NaN               NaN                NaN   \n",
       "4           NaN          NaN               NaN                NaN   \n",
       "...         ...          ...               ...                ...   \n",
       "243812      NaN          NaN               NaN                NaN   \n",
       "243813      NaN          NaN               NaN                NaN   \n",
       "243814      NaN          NaN               NaN                NaN   \n",
       "243815      NaN          NaN               NaN                NaN   \n",
       "243816      NaN       caught          SB Joshi                NaN   \n",
       "\n",
       "       other_player_dismissed cricsheet_id  \n",
       "0                         NaN      1370353  \n",
       "1                         NaN      1370353  \n",
       "2                         NaN      1370353  \n",
       "3                         NaN      1370353  \n",
       "4                         NaN      1370353  \n",
       "...                       ...          ...  \n",
       "243812                    NaN       335982  \n",
       "243813                    NaN       335982  \n",
       "243814                    NaN       335982  \n",
       "243815                    NaN       335982  \n",
       "243816                    NaN       335982  \n",
       "\n",
       "[243817 rows x 23 columns]"
      ]
     },
     "execution_count": 21,
     "metadata": {},
     "output_type": "execute_result"
    }
   ],
   "source": [
    "# second data set \n",
    "deliveries"
   ]
  },
  {
   "cell_type": "code",
   "execution_count": 22,
   "metadata": {},
   "outputs": [
    {
     "data": {
      "text/html": [
       "<div>\n",
       "<style scoped>\n",
       "    .dataframe tbody tr th:only-of-type {\n",
       "        vertical-align: middle;\n",
       "    }\n",
       "\n",
       "    .dataframe tbody tr th {\n",
       "        vertical-align: top;\n",
       "    }\n",
       "\n",
       "    .dataframe thead th {\n",
       "        text-align: right;\n",
       "    }\n",
       "</style>\n",
       "<table border=\"1\" class=\"dataframe\">\n",
       "  <thead>\n",
       "    <tr style=\"text-align: right;\">\n",
       "      <th></th>\n",
       "      <th>match_id</th>\n",
       "      <th>season</th>\n",
       "      <th>start_date</th>\n",
       "      <th>venue</th>\n",
       "      <th>innings</th>\n",
       "      <th>ball</th>\n",
       "      <th>batting_team</th>\n",
       "      <th>bowling_team</th>\n",
       "      <th>striker</th>\n",
       "      <th>non_striker</th>\n",
       "      <th>...</th>\n",
       "      <th>wides</th>\n",
       "      <th>noballs</th>\n",
       "      <th>byes</th>\n",
       "      <th>legbyes</th>\n",
       "      <th>penalty</th>\n",
       "      <th>wicket_type</th>\n",
       "      <th>player_dismissed</th>\n",
       "      <th>other_wicket_type</th>\n",
       "      <th>other_player_dismissed</th>\n",
       "      <th>cricsheet_id</th>\n",
       "    </tr>\n",
       "  </thead>\n",
       "  <tbody>\n",
       "    <tr>\n",
       "      <th>0</th>\n",
       "      <td>1370353</td>\n",
       "      <td>2023</td>\n",
       "      <td>2023-05-29</td>\n",
       "      <td>Narendra Modi Stadium, Ahmedabad</td>\n",
       "      <td>1</td>\n",
       "      <td>0.1</td>\n",
       "      <td>Gujarat Titans</td>\n",
       "      <td>Chennai Super Kings</td>\n",
       "      <td>WP Saha</td>\n",
       "      <td>Shubman Gill</td>\n",
       "      <td>...</td>\n",
       "      <td>NaN</td>\n",
       "      <td>NaN</td>\n",
       "      <td>NaN</td>\n",
       "      <td>NaN</td>\n",
       "      <td>NaN</td>\n",
       "      <td>NaN</td>\n",
       "      <td>NaN</td>\n",
       "      <td>NaN</td>\n",
       "      <td>NaN</td>\n",
       "      <td>1370353</td>\n",
       "    </tr>\n",
       "    <tr>\n",
       "      <th>1</th>\n",
       "      <td>1370353</td>\n",
       "      <td>2023</td>\n",
       "      <td>2023-05-29</td>\n",
       "      <td>Narendra Modi Stadium, Ahmedabad</td>\n",
       "      <td>1</td>\n",
       "      <td>0.2</td>\n",
       "      <td>Gujarat Titans</td>\n",
       "      <td>Chennai Super Kings</td>\n",
       "      <td>WP Saha</td>\n",
       "      <td>Shubman Gill</td>\n",
       "      <td>...</td>\n",
       "      <td>NaN</td>\n",
       "      <td>NaN</td>\n",
       "      <td>NaN</td>\n",
       "      <td>NaN</td>\n",
       "      <td>NaN</td>\n",
       "      <td>NaN</td>\n",
       "      <td>NaN</td>\n",
       "      <td>NaN</td>\n",
       "      <td>NaN</td>\n",
       "      <td>1370353</td>\n",
       "    </tr>\n",
       "    <tr>\n",
       "      <th>2</th>\n",
       "      <td>1370353</td>\n",
       "      <td>2023</td>\n",
       "      <td>2023-05-29</td>\n",
       "      <td>Narendra Modi Stadium, Ahmedabad</td>\n",
       "      <td>1</td>\n",
       "      <td>0.3</td>\n",
       "      <td>Gujarat Titans</td>\n",
       "      <td>Chennai Super Kings</td>\n",
       "      <td>WP Saha</td>\n",
       "      <td>Shubman Gill</td>\n",
       "      <td>...</td>\n",
       "      <td>NaN</td>\n",
       "      <td>NaN</td>\n",
       "      <td>NaN</td>\n",
       "      <td>NaN</td>\n",
       "      <td>NaN</td>\n",
       "      <td>NaN</td>\n",
       "      <td>NaN</td>\n",
       "      <td>NaN</td>\n",
       "      <td>NaN</td>\n",
       "      <td>1370353</td>\n",
       "    </tr>\n",
       "    <tr>\n",
       "      <th>3</th>\n",
       "      <td>1370353</td>\n",
       "      <td>2023</td>\n",
       "      <td>2023-05-29</td>\n",
       "      <td>Narendra Modi Stadium, Ahmedabad</td>\n",
       "      <td>1</td>\n",
       "      <td>0.4</td>\n",
       "      <td>Gujarat Titans</td>\n",
       "      <td>Chennai Super Kings</td>\n",
       "      <td>Shubman Gill</td>\n",
       "      <td>WP Saha</td>\n",
       "      <td>...</td>\n",
       "      <td>NaN</td>\n",
       "      <td>NaN</td>\n",
       "      <td>NaN</td>\n",
       "      <td>NaN</td>\n",
       "      <td>NaN</td>\n",
       "      <td>NaN</td>\n",
       "      <td>NaN</td>\n",
       "      <td>NaN</td>\n",
       "      <td>NaN</td>\n",
       "      <td>1370353</td>\n",
       "    </tr>\n",
       "    <tr>\n",
       "      <th>4</th>\n",
       "      <td>1370353</td>\n",
       "      <td>2023</td>\n",
       "      <td>2023-05-29</td>\n",
       "      <td>Narendra Modi Stadium, Ahmedabad</td>\n",
       "      <td>1</td>\n",
       "      <td>0.5</td>\n",
       "      <td>Gujarat Titans</td>\n",
       "      <td>Chennai Super Kings</td>\n",
       "      <td>WP Saha</td>\n",
       "      <td>Shubman Gill</td>\n",
       "      <td>...</td>\n",
       "      <td>NaN</td>\n",
       "      <td>NaN</td>\n",
       "      <td>NaN</td>\n",
       "      <td>NaN</td>\n",
       "      <td>NaN</td>\n",
       "      <td>NaN</td>\n",
       "      <td>NaN</td>\n",
       "      <td>NaN</td>\n",
       "      <td>NaN</td>\n",
       "      <td>1370353</td>\n",
       "    </tr>\n",
       "  </tbody>\n",
       "</table>\n",
       "<p>5 rows × 23 columns</p>\n",
       "</div>"
      ],
      "text/plain": [
       "   match_id season  start_date                             venue  innings  \\\n",
       "0   1370353   2023  2023-05-29  Narendra Modi Stadium, Ahmedabad        1   \n",
       "1   1370353   2023  2023-05-29  Narendra Modi Stadium, Ahmedabad        1   \n",
       "2   1370353   2023  2023-05-29  Narendra Modi Stadium, Ahmedabad        1   \n",
       "3   1370353   2023  2023-05-29  Narendra Modi Stadium, Ahmedabad        1   \n",
       "4   1370353   2023  2023-05-29  Narendra Modi Stadium, Ahmedabad        1   \n",
       "\n",
       "   ball    batting_team         bowling_team       striker   non_striker  ...  \\\n",
       "0   0.1  Gujarat Titans  Chennai Super Kings       WP Saha  Shubman Gill  ...   \n",
       "1   0.2  Gujarat Titans  Chennai Super Kings       WP Saha  Shubman Gill  ...   \n",
       "2   0.3  Gujarat Titans  Chennai Super Kings       WP Saha  Shubman Gill  ...   \n",
       "3   0.4  Gujarat Titans  Chennai Super Kings  Shubman Gill       WP Saha  ...   \n",
       "4   0.5  Gujarat Titans  Chennai Super Kings       WP Saha  Shubman Gill  ...   \n",
       "\n",
       "  wides  noballs  byes  legbyes  penalty  wicket_type  player_dismissed  \\\n",
       "0   NaN      NaN   NaN      NaN      NaN          NaN               NaN   \n",
       "1   NaN      NaN   NaN      NaN      NaN          NaN               NaN   \n",
       "2   NaN      NaN   NaN      NaN      NaN          NaN               NaN   \n",
       "3   NaN      NaN   NaN      NaN      NaN          NaN               NaN   \n",
       "4   NaN      NaN   NaN      NaN      NaN          NaN               NaN   \n",
       "\n",
       "   other_wicket_type other_player_dismissed cricsheet_id  \n",
       "0                NaN                    NaN      1370353  \n",
       "1                NaN                    NaN      1370353  \n",
       "2                NaN                    NaN      1370353  \n",
       "3                NaN                    NaN      1370353  \n",
       "4                NaN                    NaN      1370353  \n",
       "\n",
       "[5 rows x 23 columns]"
      ]
     },
     "execution_count": 22,
     "metadata": {},
     "output_type": "execute_result"
    }
   ],
   "source": [
    "deliveries.head()"
   ]
  },
  {
   "cell_type": "code",
   "execution_count": 23,
   "metadata": {},
   "outputs": [
    {
     "name": "stdout",
     "output_type": "stream",
     "text": [
      "<class 'pandas.core.frame.DataFrame'>\n",
      "RangeIndex: 243817 entries, 0 to 243816\n",
      "Data columns (total 23 columns):\n",
      " #   Column                  Non-Null Count   Dtype  \n",
      "---  ------                  --------------   -----  \n",
      " 0   match_id                243817 non-null  int64  \n",
      " 1   season                  243817 non-null  object \n",
      " 2   start_date              243817 non-null  object \n",
      " 3   venue                   243817 non-null  object \n",
      " 4   innings                 243817 non-null  int64  \n",
      " 5   ball                    243817 non-null  float64\n",
      " 6   batting_team            243817 non-null  object \n",
      " 7   bowling_team            243817 non-null  object \n",
      " 8   striker                 243817 non-null  object \n",
      " 9   non_striker             243817 non-null  object \n",
      " 10  bowler                  243817 non-null  object \n",
      " 11  runs_off_bat            243817 non-null  int64  \n",
      " 12  extras                  243817 non-null  int64  \n",
      " 13  wides                   7652 non-null    float64\n",
      " 14  noballs                 1018 non-null    float64\n",
      " 15  byes                    628 non-null     float64\n",
      " 16  legbyes                 3778 non-null    float64\n",
      " 17  penalty                 2 non-null       float64\n",
      " 18  wicket_type             12067 non-null   object \n",
      " 19  player_dismissed        12067 non-null   object \n",
      " 20  other_wicket_type       0 non-null       float64\n",
      " 21  other_player_dismissed  0 non-null       float64\n",
      " 22  cricsheet_id            243817 non-null  int64  \n",
      "dtypes: float64(8), int64(5), object(10)\n",
      "memory usage: 42.8+ MB\n"
     ]
    }
   ],
   "source": [
    "deliveries.info()"
   ]
  },
  {
   "cell_type": "code",
   "execution_count": 24,
   "metadata": {},
   "outputs": [
    {
     "data": {
      "text/plain": [
       "match_id                       0\n",
       "season                         0\n",
       "start_date                     0\n",
       "venue                          0\n",
       "innings                        0\n",
       "ball                           0\n",
       "batting_team                   0\n",
       "bowling_team                   0\n",
       "striker                        0\n",
       "non_striker                    0\n",
       "bowler                         0\n",
       "runs_off_bat                   0\n",
       "extras                         0\n",
       "wides                     236165\n",
       "noballs                   242799\n",
       "byes                      243189\n",
       "legbyes                   240039\n",
       "penalty                   243815\n",
       "wicket_type               231750\n",
       "player_dismissed          231750\n",
       "other_wicket_type         243817\n",
       "other_player_dismissed    243817\n",
       "cricsheet_id                   0\n",
       "dtype: int64"
      ]
     },
     "execution_count": 24,
     "metadata": {},
     "output_type": "execute_result"
    }
   ],
   "source": [
    "deliveries.isnull().sum()"
   ]
  },
  {
   "cell_type": "code",
   "execution_count": 25,
   "metadata": {},
   "outputs": [
    {
     "name": "stdout",
     "output_type": "stream",
     "text": [
      "match_id            0\n",
      "season              0\n",
      "start_date          0\n",
      "venue               0\n",
      "innings             0\n",
      "ball                0\n",
      "batting_team        0\n",
      "bowling_team        0\n",
      "striker             0\n",
      "non_striker         0\n",
      "bowler              0\n",
      "runs_off_bat        0\n",
      "extras              0\n",
      "wides               0\n",
      "noballs             0\n",
      "byes                0\n",
      "legbyes             0\n",
      "penalty             0\n",
      "wicket_type         0\n",
      "player_dismissed    0\n",
      "cricsheet_id        0\n",
      "dtype: int64\n"
     ]
    }
   ],
   "source": [
    "# Fill missing extras with 0\n",
    "deliveries.fillna({'wides': 0, 'noballs': 0, 'byes': 0, 'legbyes': 0, 'penalty': 0}, inplace=True)\n",
    "\n",
    "# Fill missing wicket details with \"Not Out\" or \"None\"\n",
    "deliveries['wicket_type'].fillna(\"Not Out\", inplace=True)\n",
    "deliveries['player_dismissed'].fillna(\"None\", inplace=True)\n",
    "\n",
    "# Drop columns with 100% missing values\n",
    "deliveries.drop(columns=['other_wicket_type', 'other_player_dismissed'], inplace=True)\n",
    "\n",
    "# Verify\n",
    "print(deliveries.isnull().sum())"
   ]
  },
  {
   "cell_type": "code",
   "execution_count": 26,
   "metadata": {},
   "outputs": [],
   "source": [
    "# Rename 'id' column in matches to 'match_id'\n",
    "matches.rename(columns={'id': 'match_id'}, inplace=True)"
   ]
  },
  {
   "cell_type": "code",
   "execution_count": 27,
   "metadata": {},
   "outputs": [],
   "source": [
    "# Merge datasets\n",
    "merged_df = deliveries.merge(matches, on='match_id', how='inner')"
   ]
  },
  {
   "cell_type": "code",
   "execution_count": 28,
   "metadata": {},
   "outputs": [
    {
     "name": "stdout",
     "output_type": "stream",
     "text": [
      "<class 'pandas.core.frame.DataFrame'>\n",
      "RangeIndex: 243817 entries, 0 to 243816\n",
      "Data columns (total 38 columns):\n",
      " #   Column            Non-Null Count   Dtype  \n",
      "---  ------            --------------   -----  \n",
      " 0   match_id          243817 non-null  int64  \n",
      " 1   season_x          243817 non-null  object \n",
      " 2   start_date        243817 non-null  object \n",
      " 3   venue_x           243817 non-null  object \n",
      " 4   innings           243817 non-null  int64  \n",
      " 5   ball              243817 non-null  float64\n",
      " 6   batting_team      243817 non-null  object \n",
      " 7   bowling_team      243817 non-null  object \n",
      " 8   striker           243817 non-null  object \n",
      " 9   non_striker       243817 non-null  object \n",
      " 10  bowler            243817 non-null  object \n",
      " 11  runs_off_bat      243817 non-null  int64  \n",
      " 12  extras            243817 non-null  int64  \n",
      " 13  wides             243817 non-null  float64\n",
      " 14  noballs           243817 non-null  float64\n",
      " 15  byes              243817 non-null  float64\n",
      " 16  legbyes           243817 non-null  float64\n",
      " 17  penalty           243817 non-null  float64\n",
      " 18  wicket_type       243817 non-null  object \n",
      " 19  player_dismissed  243817 non-null  object \n",
      " 20  cricsheet_id      243817 non-null  int64  \n",
      " 21  season_y          243817 non-null  object \n",
      " 22  city              243817 non-null  object \n",
      " 23  date              243817 non-null  object \n",
      " 24  team1             243817 non-null  object \n",
      " 25  team2             243817 non-null  object \n",
      " 26  toss_winner       243817 non-null  object \n",
      " 27  toss_decision     243817 non-null  object \n",
      " 28  result            243817 non-null  object \n",
      " 29  dl_applied        243817 non-null  int64  \n",
      " 30  winner            243817 non-null  object \n",
      " 31  win_by_runs       243817 non-null  int64  \n",
      " 32  win_by_wickets    243817 non-null  int64  \n",
      " 33  player_of_match   243817 non-null  object \n",
      " 34  venue_y           243817 non-null  object \n",
      " 35  umpire1           243817 non-null  object \n",
      " 36  umpire2           243817 non-null  object \n",
      " 37  umpire3           243817 non-null  object \n",
      "dtypes: float64(6), int64(8), object(24)\n",
      "memory usage: 70.7+ MB\n",
      "None\n"
     ]
    }
   ],
   "source": [
    "# Check the merged dataset\n",
    "print(merged_df.info())\n",
    "\n",
    "\n"
   ]
  },
  {
   "cell_type": "code",
   "execution_count": 29,
   "metadata": {},
   "outputs": [
    {
     "name": "stdout",
     "output_type": "stream",
     "text": [
      "   match_id season_x  start_date                           venue_x  innings  \\\n",
      "0   1370353     2023  2023-05-29  Narendra Modi Stadium, Ahmedabad        1   \n",
      "1   1370353     2023  2023-05-29  Narendra Modi Stadium, Ahmedabad        1   \n",
      "2   1370353     2023  2023-05-29  Narendra Modi Stadium, Ahmedabad        1   \n",
      "3   1370353     2023  2023-05-29  Narendra Modi Stadium, Ahmedabad        1   \n",
      "4   1370353     2023  2023-05-29  Narendra Modi Stadium, Ahmedabad        1   \n",
      "\n",
      "   ball    batting_team         bowling_team       striker   non_striker  ...  \\\n",
      "0   0.1  Gujarat Titans  Chennai Super Kings       WP Saha  Shubman Gill  ...   \n",
      "1   0.2  Gujarat Titans  Chennai Super Kings       WP Saha  Shubman Gill  ...   \n",
      "2   0.3  Gujarat Titans  Chennai Super Kings       WP Saha  Shubman Gill  ...   \n",
      "3   0.4  Gujarat Titans  Chennai Super Kings  Shubman Gill       WP Saha  ...   \n",
      "4   0.5  Gujarat Titans  Chennai Super Kings       WP Saha  Shubman Gill  ...   \n",
      "\n",
      "  result  dl_applied               winner  win_by_runs  win_by_wickets  \\\n",
      "0    D/L           1  Chennai Super Kings            0               5   \n",
      "1    D/L           1  Chennai Super Kings            0               5   \n",
      "2    D/L           1  Chennai Super Kings            0               5   \n",
      "3    D/L           1  Chennai Super Kings            0               5   \n",
      "4    D/L           1  Chennai Super Kings            0               5   \n",
      "\n",
      "   player_of_match                           venue_y      umpire1    umpire2  \\\n",
      "0        DP Conway  Narendra Modi Stadium, Ahmedabad  Nitin Menon  RJ Tucker   \n",
      "1        DP Conway  Narendra Modi Stadium, Ahmedabad  Nitin Menon  RJ Tucker   \n",
      "2        DP Conway  Narendra Modi Stadium, Ahmedabad  Nitin Menon  RJ Tucker   \n",
      "3        DP Conway  Narendra Modi Stadium, Ahmedabad  Nitin Menon  RJ Tucker   \n",
      "4        DP Conway  Narendra Modi Stadium, Ahmedabad  Nitin Menon  RJ Tucker   \n",
      "\n",
      "                 umpire3  \n",
      "0  KN Ananthapadmanabhan  \n",
      "1  KN Ananthapadmanabhan  \n",
      "2  KN Ananthapadmanabhan  \n",
      "3  KN Ananthapadmanabhan  \n",
      "4  KN Ananthapadmanabhan  \n",
      "\n",
      "[5 rows x 38 columns]\n"
     ]
    }
   ],
   "source": [
    "\n",
    "print(merged_df.head())\n",
    "\n"
   ]
  },
  {
   "cell_type": "code",
   "execution_count": 30,
   "metadata": {},
   "outputs": [
    {
     "data": {
      "text/plain": [
       "Index(['match_id', 'season_x', 'start_date', 'venue_x', 'innings', 'ball',\n",
       "       'batting_team', 'bowling_team', 'striker', 'non_striker', 'bowler',\n",
       "       'runs_off_bat', 'extras', 'wides', 'noballs', 'byes', 'legbyes',\n",
       "       'penalty', 'wicket_type', 'player_dismissed', 'cricsheet_id',\n",
       "       'season_y', 'city', 'date', 'team1', 'team2', 'toss_winner',\n",
       "       'toss_decision', 'result', 'dl_applied', 'winner', 'win_by_runs',\n",
       "       'win_by_wickets', 'player_of_match', 'venue_y', 'umpire1', 'umpire2',\n",
       "       'umpire3'],\n",
       "      dtype='object')"
      ]
     },
     "execution_count": 30,
     "metadata": {},
     "output_type": "execute_result"
    }
   ],
   "source": [
    "merged_df.columns"
   ]
  },
  {
   "cell_type": "code",
   "execution_count": 31,
   "metadata": {},
   "outputs": [],
   "source": [
    "merged_df = merged_df.drop(columns=['season_x', 'venue_x']).rename(columns={'season_y': 'season', 'venue_y': 'venue'})\n",
    "\n",
    "merged_df = merged_df.drop(columns=['cricsheet_id'])"
   ]
  },
  {
   "cell_type": "code",
   "execution_count": 32,
   "metadata": {},
   "outputs": [
    {
     "data": {
      "text/plain": [
       "match_id            0\n",
       "start_date          0\n",
       "innings             0\n",
       "ball                0\n",
       "batting_team        0\n",
       "bowling_team        0\n",
       "striker             0\n",
       "non_striker         0\n",
       "bowler              0\n",
       "runs_off_bat        0\n",
       "extras              0\n",
       "wides               0\n",
       "noballs             0\n",
       "byes                0\n",
       "legbyes             0\n",
       "penalty             0\n",
       "wicket_type         0\n",
       "player_dismissed    0\n",
       "season              0\n",
       "city                0\n",
       "date                0\n",
       "team1               0\n",
       "team2               0\n",
       "toss_winner         0\n",
       "toss_decision       0\n",
       "result              0\n",
       "dl_applied          0\n",
       "winner              0\n",
       "win_by_runs         0\n",
       "win_by_wickets      0\n",
       "player_of_match     0\n",
       "venue               0\n",
       "umpire1             0\n",
       "umpire2             0\n",
       "umpire3             0\n",
       "dtype: int64"
      ]
     },
     "execution_count": 32,
     "metadata": {},
     "output_type": "execute_result"
    }
   ],
   "source": [
    "merged_df.isnull().sum()"
   ]
  },
  {
   "cell_type": "code",
   "execution_count": 33,
   "metadata": {},
   "outputs": [
    {
     "data": {
      "text/plain": [
       "Index(['match_id', 'start_date', 'innings', 'ball', 'batting_team',\n",
       "       'bowling_team', 'striker', 'non_striker', 'bowler', 'runs_off_bat',\n",
       "       'extras', 'wides', 'noballs', 'byes', 'legbyes', 'penalty',\n",
       "       'wicket_type', 'player_dismissed', 'season', 'city', 'date', 'team1',\n",
       "       'team2', 'toss_winner', 'toss_decision', 'result', 'dl_applied',\n",
       "       'winner', 'win_by_runs', 'win_by_wickets', 'player_of_match', 'venue',\n",
       "       'umpire1', 'umpire2', 'umpire3'],\n",
       "      dtype='object')"
      ]
     },
     "execution_count": 33,
     "metadata": {},
     "output_type": "execute_result"
    }
   ],
   "source": [
    "merged_df.columns"
   ]
  },
  {
   "cell_type": "code",
   "execution_count": 34,
   "metadata": {},
   "outputs": [
    {
     "data": {
      "text/plain": [
       "(1024, 243817)"
      ]
     },
     "execution_count": 34,
     "metadata": {},
     "output_type": "execute_result"
    }
   ],
   "source": [
    "merged_df['match_id'].nunique(),merged_df.shape[0]"
   ]
  },
  {
   "cell_type": "code",
   "execution_count": 35,
   "metadata": {},
   "outputs": [
    {
     "data": {
      "text/plain": [
       "Index(['match_id', 'start_date', 'innings', 'ball', 'batting_team',\n",
       "       'bowling_team', 'striker', 'non_striker', 'bowler', 'runs_off_bat',\n",
       "       'extras', 'wides', 'noballs', 'byes', 'legbyes', 'penalty',\n",
       "       'wicket_type', 'player_dismissed', 'season', 'city', 'date', 'team1',\n",
       "       'team2', 'toss_winner', 'toss_decision', 'result', 'dl_applied',\n",
       "       'winner', 'win_by_runs', 'win_by_wickets', 'player_of_match', 'venue',\n",
       "       'umpire1', 'umpire2', 'umpire3'],\n",
       "      dtype='object')"
      ]
     },
     "execution_count": 35,
     "metadata": {},
     "output_type": "execute_result"
    }
   ],
   "source": [
    "merged_df.columns"
   ]
  },
  {
   "cell_type": "code",
   "execution_count": 36,
   "metadata": {},
   "outputs": [],
   "source": [
    "# Feature Engenering\n",
    "# Feature 1: Total Runs per Match\n",
    "\n",
    "# Calculates the total runs scored in each match.\n",
    "\n",
    "match_runs = merged_df.groupby('match_id')['runs_off_bat'].sum().reset_index()\n",
    "match_runs.rename(columns={'runs_off_bat': 'total_runs'}, inplace=True)"
   ]
  },
  {
   "cell_type": "code",
   "execution_count": 37,
   "metadata": {},
   "outputs": [],
   "source": [
    "#Feature 2: Total Wickets per Match\n",
    "\n",
    "#Counts the number of dismissals in each match.\n",
    "\n",
    "match_wickets = merged_df.groupby('match_id')['player_dismissed'].count().reset_index()\n",
    "match_wickets.rename(columns={'player_dismissed': 'total_wickets'}, inplace=True)"
   ]
  },
  {
   "cell_type": "code",
   "execution_count": 38,
   "metadata": {},
   "outputs": [],
   "source": [
    "#Feature 3: Extra Runs per Match\n",
    "\n",
    "#Calculates the total extra runs (wides, no-balls, leg-byes, etc.) in each match.\n",
    "\n",
    "match_extras = merged_df.groupby('match_id')['extras'].sum().reset_index()\n",
    "match_extras.rename(columns={'extras': 'total_extras'}, inplace=True)"
   ]
  },
  {
   "cell_type": "code",
   "execution_count": 39,
   "metadata": {},
   "outputs": [],
   "source": [
    "#Feature 4: Boundary Count (4s and 6s) Per Match\n",
    "\n",
    "#Counts the number of fours and sixes scored in each match.\n",
    "\n",
    "match_boundaries = merged_df.groupby('match_id')['runs_off_bat'].apply(lambda x: ((x == 4).sum(), (x == 6).sum())).reset_index()\n",
    "match_boundaries[['total_fours', 'total_sixes']] = pd.DataFrame(match_boundaries['runs_off_bat'].tolist(), index=match_boundaries.index)\n",
    "match_boundaries.drop(columns=['runs_off_bat'], inplace=True)"
   ]
  },
  {
   "cell_type": "code",
   "execution_count": 40,
   "metadata": {},
   "outputs": [],
   "source": [
    "#Feature 5: Batting Team Total Runs Per Match\n",
    "\n",
    "#Calculates the total runs scored by each team in each match.\n",
    "\n",
    "team_runs = merged_df.groupby(['match_id', 'batting_team'])['runs_off_bat'].sum().reset_index()\n",
    "team_runs.rename(columns={'runs_off_bat': 'team_total_runs'}, inplace=True)"
   ]
  },
  {
   "cell_type": "code",
   "execution_count": 41,
   "metadata": {},
   "outputs": [],
   "source": [
    "#Feature 6: Bowling Team Wickets Taken Per Match\n",
    "\n",
    "#Counts the number of wickets taken by each bowling team per match.\n",
    "\n",
    "team_wickets = merged_df.groupby(['match_id', 'bowling_team'])['player_dismissed'].count().reset_index()\n",
    "team_wickets.rename(columns={'player_dismissed': 'team_total_wickets'}, inplace=True)"
   ]
  },
  {
   "cell_type": "code",
   "execution_count": 42,
   "metadata": {},
   "outputs": [],
   "source": [
    "#Feature 7: Toss Winner and Toss Decision\n",
    "\n",
    "#Assigns whether the toss winner chose to bat or bowl.\n",
    "\n",
    "toss_decision = merged_df[['match_id', 'toss_winner', 'toss_decision']].drop_duplicates()"
   ]
  },
  {
   "cell_type": "code",
   "execution_count": 43,
   "metadata": {},
   "outputs": [],
   "source": [
    "#Feature 8: Winning Team and Margin\n",
    "\n",
    "#Stores the match winner along with the winning margin (runs/wickets).\n",
    "\n",
    "match_winner = merged_df[['match_id', 'winner', 'win_by_runs', 'win_by_wickets']].drop_duplicates()"
   ]
  },
  {
   "cell_type": "code",
   "execution_count": 44,
   "metadata": {},
   "outputs": [],
   "source": [
    "#Feature 9: Player of the Match\n",
    "\n",
    "# Extracts the Player of the Match for each match.\n",
    "\n",
    "player_of_match = merged_df[['match_id', 'player_of_match']].drop_duplicates()"
   ]
  },
  {
   "cell_type": "code",
   "execution_count": 45,
   "metadata": {},
   "outputs": [],
   "source": [
    "#Feature 10: Venue Information\n",
    "\n",
    "#Stores the stadium where each match was played.\n",
    "\n",
    "match_venues = merged_df[['match_id', 'venue']].drop_duplicates()"
   ]
  },
  {
   "cell_type": "code",
   "execution_count": 46,
   "metadata": {},
   "outputs": [],
   "source": [
    "#Feature 11: Umpires in the Match\n",
    "\n",
    "#Stores the umpires who officiated the match.\n",
    "\n",
    "umpires = merged_df[['match_id', 'umpire1', 'umpire2', 'umpire3']].drop_duplicates()"
   ]
  },
  {
   "cell_type": "code",
   "execution_count": 47,
   "metadata": {},
   "outputs": [],
   "source": [
    "#Final Merging of Features\n",
    "\n",
    "#After creating individual feature DataFrames, merge them into a single dataset.\n",
    "\n",
    "final_features = match_runs \\\n",
    "    .merge(match_wickets, on='match_id', how='left') \\\n",
    "    .merge(match_extras, on='match_id', how='left') \\\n",
    "    .merge(match_boundaries, on='match_id', how='left') \\\n",
    "    .merge(team_runs, on='match_id', how='left') \\\n",
    "    .merge(team_wickets, on='match_id', how='left') \\\n",
    "    .merge(toss_decision, on='match_id', how='left') \\\n",
    "    .merge(match_winner, on='match_id', how='left') \\\n",
    "    .merge(player_of_match, on='match_id', how='left') \\\n",
    "    .merge(match_venues, on='match_id', how='left') \\\n",
    "    .merge(umpires, on='match_id', how='left')"
   ]
  },
  {
   "cell_type": "code",
   "execution_count": 48,
   "metadata": {},
   "outputs": [
    {
     "data": {
      "text/plain": [
       "Index(['match_id', 'start_date', 'innings', 'ball', 'batting_team',\n",
       "       'bowling_team', 'striker', 'non_striker', 'bowler', 'runs_off_bat',\n",
       "       'extras', 'wides', 'noballs', 'byes', 'legbyes', 'penalty',\n",
       "       'wicket_type', 'player_dismissed', 'season', 'city', 'date', 'team1',\n",
       "       'team2', 'toss_winner', 'toss_decision', 'result', 'dl_applied',\n",
       "       'winner', 'win_by_runs', 'win_by_wickets', 'player_of_match', 'venue',\n",
       "       'umpire1', 'umpire2', 'umpire3'],\n",
       "      dtype='object')"
      ]
     },
     "execution_count": 48,
     "metadata": {},
     "output_type": "execute_result"
    }
   ],
   "source": [
    "merged_df.columns"
   ]
  },
  {
   "cell_type": "code",
   "execution_count": 49,
   "metadata": {},
   "outputs": [
    {
     "name": "stdout",
     "output_type": "stream",
     "text": [
      "Index(['match_id', 'total_runs', 'total_wickets', 'total_extras',\n",
      "       'total_fours', 'total_sixes', 'batting_team', 'team_total_runs',\n",
      "       'bowling_team', 'team_total_wickets', 'toss_winner', 'toss_decision',\n",
      "       'winner', 'win_by_runs', 'win_by_wickets', 'player_of_match', 'venue',\n",
      "       'umpire1', 'umpire2', 'umpire3'],\n",
      "      dtype='object')\n"
     ]
    }
   ],
   "source": [
    "print(final_features.columns)"
   ]
  },
  {
   "cell_type": "code",
   "execution_count": 50,
   "metadata": {},
   "outputs": [],
   "source": [
    "merged_df = merged_df.merge(final_features, on='match_id', how='left')"
   ]
  },
  {
   "cell_type": "code",
   "execution_count": 51,
   "metadata": {},
   "outputs": [
    {
     "data": {
      "text/plain": [
       "Index(['match_id', 'start_date', 'innings', 'ball', 'batting_team_x',\n",
       "       'bowling_team_x', 'striker', 'non_striker', 'bowler', 'runs_off_bat',\n",
       "       'extras', 'wides', 'noballs', 'byes', 'legbyes', 'penalty',\n",
       "       'wicket_type', 'player_dismissed', 'season', 'city', 'date', 'team1',\n",
       "       'team2', 'toss_winner_x', 'toss_decision_x', 'result', 'dl_applied',\n",
       "       'winner_x', 'win_by_runs_x', 'win_by_wickets_x', 'player_of_match_x',\n",
       "       'venue_x', 'umpire1_x', 'umpire2_x', 'umpire3_x', 'total_runs',\n",
       "       'total_wickets', 'total_extras', 'total_fours', 'total_sixes',\n",
       "       'batting_team_y', 'team_total_runs', 'bowling_team_y',\n",
       "       'team_total_wickets', 'toss_winner_y', 'toss_decision_y', 'winner_y',\n",
       "       'win_by_runs_y', 'win_by_wickets_y', 'player_of_match_y', 'venue_y',\n",
       "       'umpire1_y', 'umpire2_y', 'umpire3_y'],\n",
       "      dtype='object')"
      ]
     },
     "execution_count": 51,
     "metadata": {},
     "output_type": "execute_result"
    }
   ],
   "source": [
    "merged_df.columns"
   ]
  },
  {
   "cell_type": "code",
   "execution_count": 52,
   "metadata": {},
   "outputs": [
    {
     "name": "stdout",
     "output_type": "stream",
     "text": [
      "Index(['match_id', 'start_date', 'innings', 'ball', 'striker', 'non_striker',\n",
      "       'bowler', 'runs_off_bat', 'extras', 'wides', 'noballs', 'byes',\n",
      "       'legbyes', 'penalty', 'wicket_type', 'player_dismissed', 'season',\n",
      "       'city', 'date', 'team1', 'team2', 'result', 'dl_applied', 'total_runs',\n",
      "       'total_wickets', 'total_extras', 'total_fours', 'total_sixes',\n",
      "       'batting_team', 'team_total_runs', 'bowling_team', 'team_total_wickets',\n",
      "       'toss_winner', 'toss_decision', 'winner', 'win_by_runs',\n",
      "       'win_by_wickets', 'player_of_match', 'venue', 'umpire1', 'umpire2',\n",
      "       'umpire3'],\n",
      "      dtype='object')\n"
     ]
    }
   ],
   "source": [
    "# Dropping duplicate columns\n",
    "columns_to_drop = [col for col in merged_df.columns if col.endswith('_x')]\n",
    "merged_df.drop(columns=columns_to_drop, inplace=True)\n",
    "\n",
    "# Renaming the '_y' columns to remove the suffix\n",
    "merged_df.rename(columns=lambda col: col.rstrip('_y') if col.endswith('_y') else col, inplace=True)\n",
    "\n",
    "# Check final column names\n",
    "print(merged_df.columns)"
   ]
  },
  {
   "cell_type": "code",
   "execution_count": 53,
   "metadata": {},
   "outputs": [
    {
     "data": {
      "text/plain": [
       "Index(['match_id', 'start_date', 'innings', 'ball', 'striker', 'non_striker',\n",
       "       'bowler', 'runs_off_bat', 'extras', 'wides', 'noballs', 'byes',\n",
       "       'legbyes', 'penalty', 'wicket_type', 'player_dismissed', 'season',\n",
       "       'city', 'date', 'team1', 'team2', 'result', 'dl_applied', 'total_runs',\n",
       "       'total_wickets', 'total_extras', 'total_fours', 'total_sixes',\n",
       "       'batting_team', 'team_total_runs', 'bowling_team', 'team_total_wickets',\n",
       "       'toss_winner', 'toss_decision', 'winner', 'win_by_runs',\n",
       "       'win_by_wickets', 'player_of_match', 'venue', 'umpire1', 'umpire2',\n",
       "       'umpire3'],\n",
       "      dtype='object')"
      ]
     },
     "execution_count": 53,
     "metadata": {},
     "output_type": "execute_result"
    }
   ],
   "source": [
    "merged_df.columns"
   ]
  },
  {
   "cell_type": "code",
   "execution_count": 54,
   "metadata": {},
   "outputs": [
    {
     "name": "stdout",
     "output_type": "stream",
     "text": [
      "<class 'pandas.core.frame.DataFrame'>\n",
      "RangeIndex: 974341 entries, 0 to 974340\n",
      "Data columns (total 42 columns):\n",
      " #   Column              Non-Null Count   Dtype  \n",
      "---  ------              --------------   -----  \n",
      " 0   match_id            974341 non-null  int64  \n",
      " 1   start_date          974341 non-null  object \n",
      " 2   innings             974341 non-null  int64  \n",
      " 3   ball                974341 non-null  float64\n",
      " 4   striker             974341 non-null  object \n",
      " 5   non_striker         974341 non-null  object \n",
      " 6   bowler              974341 non-null  object \n",
      " 7   runs_off_bat        974341 non-null  int64  \n",
      " 8   extras              974341 non-null  int64  \n",
      " 9   wides               974341 non-null  float64\n",
      " 10  noballs             974341 non-null  float64\n",
      " 11  byes                974341 non-null  float64\n",
      " 12  legbyes             974341 non-null  float64\n",
      " 13  penalty             974341 non-null  float64\n",
      " 14  wicket_type         974341 non-null  object \n",
      " 15  player_dismissed    974341 non-null  object \n",
      " 16  season              974341 non-null  object \n",
      " 17  city                974341 non-null  object \n",
      " 18  date                974341 non-null  object \n",
      " 19  team1               974341 non-null  object \n",
      " 20  team2               974341 non-null  object \n",
      " 21  result              974341 non-null  object \n",
      " 22  dl_applied          974341 non-null  int64  \n",
      " 23  total_runs          974341 non-null  int64  \n",
      " 24  total_wickets       974341 non-null  int64  \n",
      " 25  total_extras        974341 non-null  int64  \n",
      " 26  total_fours         974341 non-null  int64  \n",
      " 27  total_sixes         974341 non-null  int64  \n",
      " 28  batting_team        974341 non-null  object \n",
      " 29  team_total_runs     974341 non-null  int64  \n",
      " 30  bowling_team        974341 non-null  object \n",
      " 31  team_total_wickets  974341 non-null  int64  \n",
      " 32  toss_winner         974341 non-null  object \n",
      " 33  toss_decision       974341 non-null  object \n",
      " 34  winner              974341 non-null  object \n",
      " 35  win_by_runs         974341 non-null  int64  \n",
      " 36  win_by_wickets      974341 non-null  int64  \n",
      " 37  player_of_match     974341 non-null  object \n",
      " 38  venue               974341 non-null  object \n",
      " 39  umpire1             974341 non-null  object \n",
      " 40  umpire2             974341 non-null  object \n",
      " 41  umpire3             974341 non-null  object \n",
      "dtypes: float64(6), int64(14), object(22)\n",
      "memory usage: 312.2+ MB\n"
     ]
    }
   ],
   "source": [
    "merged_df.info()"
   ]
  },
  {
   "cell_type": "code",
   "execution_count": 55,
   "metadata": {},
   "outputs": [
    {
     "data": {
      "text/plain": [
       "Index(['match_id', 'start_date', 'innings', 'ball', 'striker', 'non_striker',\n",
       "       'bowler', 'runs_off_bat', 'extras', 'wides', 'noballs', 'byes',\n",
       "       'legbyes', 'penalty', 'wicket_type', 'player_dismissed', 'season',\n",
       "       'city', 'date', 'team1', 'team2', 'result', 'dl_applied', 'total_runs',\n",
       "       'total_wickets', 'total_extras', 'total_fours', 'total_sixes',\n",
       "       'batting_team', 'team_total_runs', 'bowling_team', 'team_total_wickets',\n",
       "       'toss_winner', 'toss_decision', 'winner', 'win_by_runs',\n",
       "       'win_by_wickets', 'player_of_match', 'venue', 'umpire1', 'umpire2',\n",
       "       'umpire3'],\n",
       "      dtype='object')"
      ]
     },
     "execution_count": 55,
     "metadata": {},
     "output_type": "execute_result"
    }
   ],
   "source": [
    "merged_df.columns"
   ]
  },
  {
   "cell_type": "code",
   "execution_count": 56,
   "metadata": {},
   "outputs": [],
   "source": [
    "columns_to_drop = ['umpire1', 'umpire2', 'umpire3', 'match_id', 'start_date', 'innings', 'ball', 'non_striker','date','extras', 'wides', 'noballs', 'byes', 'legbyes', 'penalty', 'dl_applied']\n",
    "merged_df.drop(columns=columns_to_drop, inplace=True)"
   ]
  },
  {
   "cell_type": "code",
   "execution_count": 57,
   "metadata": {},
   "outputs": [
    {
     "data": {
      "text/plain": [
       "Index(['striker', 'bowler', 'runs_off_bat', 'wicket_type', 'player_dismissed',\n",
       "       'season', 'city', 'team1', 'team2', 'result', 'total_runs',\n",
       "       'total_wickets', 'total_extras', 'total_fours', 'total_sixes',\n",
       "       'batting_team', 'team_total_runs', 'bowling_team', 'team_total_wickets',\n",
       "       'toss_winner', 'toss_decision', 'winner', 'win_by_runs',\n",
       "       'win_by_wickets', 'player_of_match', 'venue'],\n",
       "      dtype='object')"
      ]
     },
     "execution_count": 57,
     "metadata": {},
     "output_type": "execute_result"
    }
   ],
   "source": [
    "merged_df.columns"
   ]
  },
  {
   "cell_type": "code",
   "execution_count": 58,
   "metadata": {},
   "outputs": [
    {
     "data": {
      "text/plain": [
       "striker               0\n",
       "bowler                0\n",
       "runs_off_bat          0\n",
       "wicket_type           0\n",
       "player_dismissed      0\n",
       "season                0\n",
       "city                  0\n",
       "team1                 0\n",
       "team2                 0\n",
       "result                0\n",
       "total_runs            0\n",
       "total_wickets         0\n",
       "total_extras          0\n",
       "total_fours           0\n",
       "total_sixes           0\n",
       "batting_team          0\n",
       "team_total_runs       0\n",
       "bowling_team          0\n",
       "team_total_wickets    0\n",
       "toss_winner           0\n",
       "toss_decision         0\n",
       "winner                0\n",
       "win_by_runs           0\n",
       "win_by_wickets        0\n",
       "player_of_match       0\n",
       "venue                 0\n",
       "dtype: int64"
      ]
     },
     "execution_count": 58,
     "metadata": {},
     "output_type": "execute_result"
    }
   ],
   "source": [
    "merged_df.isnull().sum()"
   ]
  },
  {
   "cell_type": "code",
   "execution_count": 59,
   "metadata": {},
   "outputs": [
    {
     "data": {
      "text/plain": [
       "striker               object\n",
       "bowler                object\n",
       "runs_off_bat           int64\n",
       "wicket_type           object\n",
       "player_dismissed      object\n",
       "season                object\n",
       "city                  object\n",
       "team1                 object\n",
       "team2                 object\n",
       "result                object\n",
       "total_runs             int64\n",
       "total_wickets          int64\n",
       "total_extras           int64\n",
       "total_fours            int64\n",
       "total_sixes            int64\n",
       "batting_team          object\n",
       "team_total_runs        int64\n",
       "bowling_team          object\n",
       "team_total_wickets     int64\n",
       "toss_winner           object\n",
       "toss_decision         object\n",
       "winner                object\n",
       "win_by_runs            int64\n",
       "win_by_wickets         int64\n",
       "player_of_match       object\n",
       "venue                 object\n",
       "dtype: object"
      ]
     },
     "execution_count": 59,
     "metadata": {},
     "output_type": "execute_result"
    }
   ],
   "source": [
    "merged_df.dtypes"
   ]
  },
  {
   "cell_type": "code",
   "execution_count": 60,
   "metadata": {},
   "outputs": [
    {
     "data": {
      "text/html": [
       "<div>\n",
       "<style scoped>\n",
       "    .dataframe tbody tr th:only-of-type {\n",
       "        vertical-align: middle;\n",
       "    }\n",
       "\n",
       "    .dataframe tbody tr th {\n",
       "        vertical-align: top;\n",
       "    }\n",
       "\n",
       "    .dataframe thead th {\n",
       "        text-align: right;\n",
       "    }\n",
       "</style>\n",
       "<table border=\"1\" class=\"dataframe\">\n",
       "  <thead>\n",
       "    <tr style=\"text-align: right;\">\n",
       "      <th></th>\n",
       "      <th>runs_off_bat</th>\n",
       "      <th>total_runs</th>\n",
       "      <th>total_wickets</th>\n",
       "      <th>total_extras</th>\n",
       "      <th>total_fours</th>\n",
       "      <th>total_sixes</th>\n",
       "      <th>team_total_runs</th>\n",
       "      <th>team_total_wickets</th>\n",
       "      <th>win_by_runs</th>\n",
       "      <th>win_by_wickets</th>\n",
       "    </tr>\n",
       "  </thead>\n",
       "  <tbody>\n",
       "    <tr>\n",
       "      <th>count</th>\n",
       "      <td>974341.000000</td>\n",
       "      <td>974341.000000</td>\n",
       "      <td>974341.000000</td>\n",
       "      <td>974341.000000</td>\n",
       "      <td>974341.000000</td>\n",
       "      <td>974341.000000</td>\n",
       "      <td>974341.000000</td>\n",
       "      <td>974341.000000</td>\n",
       "      <td>974341.000000</td>\n",
       "      <td>974341.000000</td>\n",
       "    </tr>\n",
       "    <tr>\n",
       "      <th>mean</th>\n",
       "      <td>1.252709</td>\n",
       "      <td>301.418455</td>\n",
       "      <td>240.194253</td>\n",
       "      <td>16.156737</td>\n",
       "      <td>27.276103</td>\n",
       "      <td>11.653787</td>\n",
       "      <td>150.730168</td>\n",
       "      <td>120.114717</td>\n",
       "      <td>13.752680</td>\n",
       "      <td>3.197078</td>\n",
       "    </tr>\n",
       "    <tr>\n",
       "      <th>std</th>\n",
       "      <td>1.626831</td>\n",
       "      <td>53.202143</td>\n",
       "      <td>16.964517</td>\n",
       "      <td>6.039678</td>\n",
       "      <td>6.651297</td>\n",
       "      <td>5.777198</td>\n",
       "      <td>30.005657</td>\n",
       "      <td>11.033970</td>\n",
       "      <td>23.240974</td>\n",
       "      <td>3.336203</td>\n",
       "    </tr>\n",
       "    <tr>\n",
       "      <th>min</th>\n",
       "      <td>0.000000</td>\n",
       "      <td>51.000000</td>\n",
       "      <td>51.000000</td>\n",
       "      <td>2.000000</td>\n",
       "      <td>3.000000</td>\n",
       "      <td>1.000000</td>\n",
       "      <td>2.000000</td>\n",
       "      <td>7.000000</td>\n",
       "      <td>0.000000</td>\n",
       "      <td>0.000000</td>\n",
       "    </tr>\n",
       "    <tr>\n",
       "      <th>25%</th>\n",
       "      <td>0.000000</td>\n",
       "      <td>269.000000</td>\n",
       "      <td>237.000000</td>\n",
       "      <td>12.000000</td>\n",
       "      <td>23.000000</td>\n",
       "      <td>7.000000</td>\n",
       "      <td>132.000000</td>\n",
       "      <td>120.000000</td>\n",
       "      <td>0.000000</td>\n",
       "      <td>0.000000</td>\n",
       "    </tr>\n",
       "    <tr>\n",
       "      <th>50%</th>\n",
       "      <td>1.000000</td>\n",
       "      <td>303.000000</td>\n",
       "      <td>245.000000</td>\n",
       "      <td>16.000000</td>\n",
       "      <td>27.000000</td>\n",
       "      <td>11.000000</td>\n",
       "      <td>152.000000</td>\n",
       "      <td>123.000000</td>\n",
       "      <td>0.000000</td>\n",
       "      <td>3.000000</td>\n",
       "    </tr>\n",
       "    <tr>\n",
       "      <th>75%</th>\n",
       "      <td>1.000000</td>\n",
       "      <td>335.000000</td>\n",
       "      <td>249.000000</td>\n",
       "      <td>20.000000</td>\n",
       "      <td>32.000000</td>\n",
       "      <td>15.000000</td>\n",
       "      <td>170.000000</td>\n",
       "      <td>125.000000</td>\n",
       "      <td>19.000000</td>\n",
       "      <td>6.000000</td>\n",
       "    </tr>\n",
       "    <tr>\n",
       "      <th>max</th>\n",
       "      <td>6.000000</td>\n",
       "      <td>448.000000</td>\n",
       "      <td>269.000000</td>\n",
       "      <td>45.000000</td>\n",
       "      <td>51.000000</td>\n",
       "      <td>33.000000</td>\n",
       "      <td>252.000000</td>\n",
       "      <td>137.000000</td>\n",
       "      <td>146.000000</td>\n",
       "      <td>10.000000</td>\n",
       "    </tr>\n",
       "  </tbody>\n",
       "</table>\n",
       "</div>"
      ],
      "text/plain": [
       "        runs_off_bat     total_runs  total_wickets   total_extras  \\\n",
       "count  974341.000000  974341.000000  974341.000000  974341.000000   \n",
       "mean        1.252709     301.418455     240.194253      16.156737   \n",
       "std         1.626831      53.202143      16.964517       6.039678   \n",
       "min         0.000000      51.000000      51.000000       2.000000   \n",
       "25%         0.000000     269.000000     237.000000      12.000000   \n",
       "50%         1.000000     303.000000     245.000000      16.000000   \n",
       "75%         1.000000     335.000000     249.000000      20.000000   \n",
       "max         6.000000     448.000000     269.000000      45.000000   \n",
       "\n",
       "         total_fours    total_sixes  team_total_runs  team_total_wickets  \\\n",
       "count  974341.000000  974341.000000    974341.000000       974341.000000   \n",
       "mean       27.276103      11.653787       150.730168          120.114717   \n",
       "std         6.651297       5.777198        30.005657           11.033970   \n",
       "min         3.000000       1.000000         2.000000            7.000000   \n",
       "25%        23.000000       7.000000       132.000000          120.000000   \n",
       "50%        27.000000      11.000000       152.000000          123.000000   \n",
       "75%        32.000000      15.000000       170.000000          125.000000   \n",
       "max        51.000000      33.000000       252.000000          137.000000   \n",
       "\n",
       "         win_by_runs  win_by_wickets  \n",
       "count  974341.000000   974341.000000  \n",
       "mean       13.752680        3.197078  \n",
       "std        23.240974        3.336203  \n",
       "min         0.000000        0.000000  \n",
       "25%         0.000000        0.000000  \n",
       "50%         0.000000        3.000000  \n",
       "75%        19.000000        6.000000  \n",
       "max       146.000000       10.000000  "
      ]
     },
     "execution_count": 60,
     "metadata": {},
     "output_type": "execute_result"
    }
   ],
   "source": [
    "merged_df.describe()"
   ]
  },
  {
   "cell_type": "code",
   "execution_count": 61,
   "metadata": {},
   "outputs": [
    {
     "name": "stdout",
     "output_type": "stream",
     "text": [
      "non-encoded dataset saved as 'non_encoded_ipl_data.csv',\n"
     ]
    }
   ],
   "source": [
    "merged_df.to_csv(\"non_encoded_ipl_data.csv\", index=False)\n",
    "print(\"non-encoded dataset saved as 'non_encoded_ipl_data.csv',\")"
   ]
  },
  {
   "cell_type": "markdown",
   "metadata": {},
   "source": [
    "This is the non encoded dataset used for the Power BI dashboard but some features in it required encoded data so now we are encoding the data to make a maxhine learning model that can predict future outcomes and also will help the other features like win prediction and trend analysis ."
   ]
  },
  {
   "cell_type": "code",
   "execution_count": 62,
   "metadata": {},
   "outputs": [],
   "source": [
    "# Now starting with encoding the dataset \n",
    "# Load the non-encoded dataset\n",
    "df = pd.read_csv(\"non_encoded_ipl_data.csv\") \n",
    "\n"
   ]
  },
  {
   "cell_type": "code",
   "execution_count": 63,
   "metadata": {},
   "outputs": [
    {
     "data": {
      "text/plain": [
       "Index(['striker', 'bowler', 'runs_off_bat', 'wicket_type', 'player_dismissed',\n",
       "       'season', 'city', 'team1', 'team2', 'result', 'total_runs',\n",
       "       'total_wickets', 'total_extras', 'total_fours', 'total_sixes',\n",
       "       'batting_team', 'team_total_runs', 'bowling_team', 'team_total_wickets',\n",
       "       'toss_winner', 'toss_decision', 'winner', 'win_by_runs',\n",
       "       'win_by_wickets', 'player_of_match', 'venue'],\n",
       "      dtype='object')"
      ]
     },
     "execution_count": 63,
     "metadata": {},
     "output_type": "execute_result"
    }
   ],
   "source": [
    "df.columns"
   ]
  },
  {
   "cell_type": "code",
   "execution_count": 64,
   "metadata": {},
   "outputs": [],
   "source": [
    "df_encoded = df.copy()"
   ]
  },
  {
   "cell_type": "code",
   "execution_count": 65,
   "metadata": {},
   "outputs": [
    {
     "name": "stdout",
     "output_type": "stream",
     "text": [
      "Encoding done properly! No unnecessary columns this time.\n"
     ]
    }
   ],
   "source": [
    "import pandas as pd\n",
    "\n",
    "# Load dataset\n",
    "df = pd.read_csv(\"non_encoded_ipl_data.csv\")\n",
    "\n",
    "# Define categorical columns for encoding\n",
    "categorical_columns = ['season', 'city', 'team1', 'team2', 'toss_winner', 'toss_decision', 'winner', 'result']\n",
    "\n",
    "# Encode only selected categorical columns\n",
    "df_encoded = pd.get_dummies(df, columns=categorical_columns, drop_first=True)\n",
    "\n",
    "# Save cleaned and encoded dataset\n",
    "df_encoded.to_csv(\"new_encoded_ipl_data.csv\", index=False)\n",
    "\n",
    "print(\"Encoding done properly! No unnecessary columns this time.\")"
   ]
  },
  {
   "cell_type": "code",
   "execution_count": 66,
   "metadata": {},
   "outputs": [],
   "source": [
    "df = pd.read_csv(\"encoded_ipl_data.csv\")"
   ]
  },
  {
   "cell_type": "code",
   "execution_count": 67,
   "metadata": {},
   "outputs": [
    {
     "data": {
      "text/plain": [
       "Index(['striker', 'bowler', 'runs_off_bat', 'wicket_type', 'player_dismissed',\n",
       "       'total_runs', 'total_wickets', 'total_extras', 'total_fours',\n",
       "       'total_sixes',\n",
       "       ...\n",
       "       'winner_Mumbai Indians', 'winner_No Result', 'winner_Pune Warriors',\n",
       "       'winner_Punjab Kings', 'winner_Rajasthan Royals',\n",
       "       'winner_Rising Pune Supergiant', 'winner_Rising Pune Supergiants',\n",
       "       'winner_Royal Challengers Bangalore', 'winner_Sunrisers Hyderabad',\n",
       "       'result_normal'],\n",
       "      dtype='object', length=143)"
      ]
     },
     "execution_count": 67,
     "metadata": {},
     "output_type": "execute_result"
    }
   ],
   "source": [
    "df.columns\n"
   ]
  },
  {
   "cell_type": "code",
   "execution_count": 68,
   "metadata": {},
   "outputs": [],
   "source": [
    "df_model = df.copy"
   ]
  },
  {
   "cell_type": "code",
   "execution_count": 69,
   "metadata": {},
   "outputs": [
    {
     "name": "stdout",
     "output_type": "stream",
     "text": [
      "Feature Shape: (974341, 125)\n",
      "Target Shape: (974341, 18)\n"
     ]
    }
   ],
   "source": [
    "import pandas as pd\n",
    "\n",
    "# Ensure df_model is a copy of the DataFrame\n",
    "df_model = df.copy() \n",
    "\n",
    "# Now apply drop operation\n",
    "X = df_model.drop(columns=[col for col in df_model.columns if col.startswith(\"winner_\")])\n",
    "\n",
    "y = df_model[[col for col in df_model.columns if col.startswith(\"winner_\")]]\n",
    "\n",
    "# Check shapes\n",
    "print(\"Feature Shape:\", X.shape)\n",
    "print(\"Target Shape:\", y.shape)"
   ]
  },
  {
   "cell_type": "code",
   "execution_count": 70,
   "metadata": {},
   "outputs": [
    {
     "name": "stdout",
     "output_type": "stream",
     "text": [
      "Training Data Shape: (779472, 125) (779472, 18)\n",
      "Testing Data Shape: (194869, 125) (194869, 18)\n"
     ]
    }
   ],
   "source": [
    "from sklearn.model_selection import train_test_split\n",
    "\n",
    "X_train, X_test, y_train, y_test = train_test_split(X, y, test_size=0.2, random_state=42)\n",
    "\n",
    "print(\"Training Data Shape:\", X_train.shape, y_train.shape)\n",
    "print(\"Testing Data Shape:\", X_test.shape, y_test.shape)"
   ]
  },
  {
   "cell_type": "code",
   "execution_count": 71,
   "metadata": {},
   "outputs": [
    {
     "name": "stdout",
     "output_type": "stream",
     "text": [
      "striker                                    object\n",
      "bowler                                     object\n",
      "runs_off_bat                                int64\n",
      "wicket_type                                object\n",
      "player_dismissed                           object\n",
      "                                            ...  \n",
      "toss_winner_Rising Pune Supergiants          bool\n",
      "toss_winner_Royal Challengers Bangalore      bool\n",
      "toss_winner_Sunrisers Hyderabad              bool\n",
      "toss_decision_field                          bool\n",
      "result_normal                                bool\n",
      "Length: 125, dtype: object\n"
     ]
    }
   ],
   "source": [
    "print(X.dtypes)"
   ]
  },
  {
   "cell_type": "code",
   "execution_count": 72,
   "metadata": {},
   "outputs": [
    {
     "data": {
      "text/plain": [
       "Index(['striker', 'bowler', 'wicket_type', 'player_dismissed', 'batting_team',\n",
       "       'bowling_team', 'player_of_match', 'venue'],\n",
       "      dtype='object')"
      ]
     },
     "execution_count": 72,
     "metadata": {},
     "output_type": "execute_result"
    }
   ],
   "source": [
    "X.select_dtypes(include=[object]).columns"
   ]
  },
  {
   "cell_type": "code",
   "execution_count": 73,
   "metadata": {},
   "outputs": [],
   "source": [
    "from sklearn.preprocessing import OneHotEncoder\n",
    "import pandas as pd\n",
    "\n",
    "encoder = OneHotEncoder(handle_unknown='ignore', sparse_output=True)  # ✅ Use sparse_output=True\n",
    "X_train_encoded = encoder.fit_transform(X_train.select_dtypes(include=[object]))\n",
    "X_test_encoded = encoder.transform(X_test.select_dtypes(include=[object]))\n",
    "\n",
    "# Convert to DataFrame\n",
    "X_train_encoded = pd.DataFrame.sparse.from_spmatrix(X_train_encoded, index=X_train.index)\n",
    "X_test_encoded = pd.DataFrame.sparse.from_spmatrix(X_test_encoded, index=X_test.index)\n",
    "\n",
    "# Drop original categorical columns\n",
    "X_train.drop(columns=X_train.select_dtypes(include=[object]).columns, inplace=True)\n",
    "X_test.drop(columns=X_test.select_dtypes(include=[object]).columns, inplace=True)\n",
    "\n",
    "# Concatenate (Now uses much less memory)\n",
    "X_train = pd.concat([X_train, X_train_encoded], axis=1)\n",
    "X_test = pd.concat([X_test, X_test_encoded], axis=1)"
   ]
  },
  {
   "cell_type": "code",
   "execution_count": 74,
   "metadata": {},
   "outputs": [
    {
     "name": "stdout",
     "output_type": "stream",
     "text": [
      "X_train shape: (779472, 2244)\n",
      "y_train shape: (779472, 18)\n",
      "X_test shape: (194869, 2244)\n",
      "y_test shape: (194869, 18)\n"
     ]
    }
   ],
   "source": [
    "print(\"X_train shape:\", X_train.shape)\n",
    "print(\"y_train shape:\", y_train.shape)\n",
    "print(\"X_test shape:\", X_test.shape)\n",
    "print(\"y_test shape:\", y_test.shape)"
   ]
  },
  {
   "cell_type": "code",
   "execution_count": 75,
   "metadata": {},
   "outputs": [],
   "source": [
    "import pandas as pd\n",
    "\n",
    "# Convert X_train to DataFrame\n",
    "X_train = pd.DataFrame(X_train)\n",
    "\n",
    "# Convert y_train to a 1D NumPy array before converting to a Pandas Series\n",
    "if isinstance(y_train, pd.DataFrame):\n",
    "    y_train = y_train.values  # Convert to NumPy array\n",
    "\n",
    "y_train = y_train.ravel()  # Ensure 1D shape\n",
    "y_train = pd.Series(y_train)  # Convert back to Pandas Series if needed"
   ]
  },
  {
   "cell_type": "code",
   "execution_count": 76,
   "metadata": {},
   "outputs": [],
   "source": [
    "X_train = X_train[~y_train.isna()]\n",
    "y_train = y_train.dropna()"
   ]
  },
  {
   "cell_type": "code",
   "execution_count": 77,
   "metadata": {},
   "outputs": [],
   "source": [
    "y_train = y_train.values.ravel()\n",
    "y_test = y_test.values.ravel()"
   ]
  },
  {
   "cell_type": "code",
   "execution_count": 78,
   "metadata": {},
   "outputs": [],
   "source": [
    "y_train = pd.Series(y_train) \n",
    "y_test = pd.Series(y_test)"
   ]
  },
  {
   "cell_type": "code",
   "execution_count": 79,
   "metadata": {},
   "outputs": [],
   "source": [
    "X_train = X_train.astype('float32')\n",
    "X_test = X_test.astype('float32')"
   ]
  },
  {
   "cell_type": "code",
   "execution_count": 80,
   "metadata": {},
   "outputs": [],
   "source": [
    "import lightgbm as lgb\n",
    "from sklearn.metrics import accuracy_score\n",
    "\n",
    "model = lgb.LGBMClassifier()\n"
   ]
  },
  {
   "cell_type": "code",
   "execution_count": 96,
   "metadata": {},
   "outputs": [
    {
     "name": "stdout",
     "output_type": "stream",
     "text": [
      "(779472, 2244)\n",
      "(779472,)\n"
     ]
    }
   ],
   "source": [
    "print(X_train.shape)\n",
    "print(y_train.shape)"
   ]
  },
  {
   "cell_type": "code",
   "execution_count": 83,
   "metadata": {},
   "outputs": [],
   "source": [
    "y_train = y_train[:X_train.shape[0]]"
   ]
  },
  {
   "cell_type": "code",
   "execution_count": 84,
   "metadata": {},
   "outputs": [
    {
     "name": "stdout",
     "output_type": "stream",
     "text": [
      "[LightGBM] [Warning] Found whitespace in feature_names, replace with underlines\n",
      "[LightGBM] [Info] Number of positive: 37536, number of negative: 741936\n",
      "[LightGBM] [Info] Auto-choosing row-wise multi-threading, the overhead of testing was 1.253344 seconds.\n",
      "You can set `force_row_wise=true` to remove the overhead.\n",
      "And if memory is not enough, you can set `force_col_wise=true`.\n",
      "[LightGBM] [Info] Total Bins 4618\n",
      "[LightGBM] [Info] Number of data points in the train set: 779472, number of used features: 1895\n",
      "[LightGBM] [Info] [binary:BoostFromScore]: pavg=0.048156 -> initscore=-2.983963\n",
      "[LightGBM] [Info] Start training from score -2.983963\n"
     ]
    },
    {
     "data": {
      "text/html": [
       "<style>#sk-container-id-1 {\n",
       "  /* Definition of color scheme common for light and dark mode */\n",
       "  --sklearn-color-text: #000;\n",
       "  --sklearn-color-text-muted: #666;\n",
       "  --sklearn-color-line: gray;\n",
       "  /* Definition of color scheme for unfitted estimators */\n",
       "  --sklearn-color-unfitted-level-0: #fff5e6;\n",
       "  --sklearn-color-unfitted-level-1: #f6e4d2;\n",
       "  --sklearn-color-unfitted-level-2: #ffe0b3;\n",
       "  --sklearn-color-unfitted-level-3: chocolate;\n",
       "  /* Definition of color scheme for fitted estimators */\n",
       "  --sklearn-color-fitted-level-0: #f0f8ff;\n",
       "  --sklearn-color-fitted-level-1: #d4ebff;\n",
       "  --sklearn-color-fitted-level-2: #b3dbfd;\n",
       "  --sklearn-color-fitted-level-3: cornflowerblue;\n",
       "\n",
       "  /* Specific color for light theme */\n",
       "  --sklearn-color-text-on-default-background: var(--sg-text-color, var(--theme-code-foreground, var(--jp-content-font-color1, black)));\n",
       "  --sklearn-color-background: var(--sg-background-color, var(--theme-background, var(--jp-layout-color0, white)));\n",
       "  --sklearn-color-border-box: var(--sg-text-color, var(--theme-code-foreground, var(--jp-content-font-color1, black)));\n",
       "  --sklearn-color-icon: #696969;\n",
       "\n",
       "  @media (prefers-color-scheme: dark) {\n",
       "    /* Redefinition of color scheme for dark theme */\n",
       "    --sklearn-color-text-on-default-background: var(--sg-text-color, var(--theme-code-foreground, var(--jp-content-font-color1, white)));\n",
       "    --sklearn-color-background: var(--sg-background-color, var(--theme-background, var(--jp-layout-color0, #111)));\n",
       "    --sklearn-color-border-box: var(--sg-text-color, var(--theme-code-foreground, var(--jp-content-font-color1, white)));\n",
       "    --sklearn-color-icon: #878787;\n",
       "  }\n",
       "}\n",
       "\n",
       "#sk-container-id-1 {\n",
       "  color: var(--sklearn-color-text);\n",
       "}\n",
       "\n",
       "#sk-container-id-1 pre {\n",
       "  padding: 0;\n",
       "}\n",
       "\n",
       "#sk-container-id-1 input.sk-hidden--visually {\n",
       "  border: 0;\n",
       "  clip: rect(1px 1px 1px 1px);\n",
       "  clip: rect(1px, 1px, 1px, 1px);\n",
       "  height: 1px;\n",
       "  margin: -1px;\n",
       "  overflow: hidden;\n",
       "  padding: 0;\n",
       "  position: absolute;\n",
       "  width: 1px;\n",
       "}\n",
       "\n",
       "#sk-container-id-1 div.sk-dashed-wrapped {\n",
       "  border: 1px dashed var(--sklearn-color-line);\n",
       "  margin: 0 0.4em 0.5em 0.4em;\n",
       "  box-sizing: border-box;\n",
       "  padding-bottom: 0.4em;\n",
       "  background-color: var(--sklearn-color-background);\n",
       "}\n",
       "\n",
       "#sk-container-id-1 div.sk-container {\n",
       "  /* jupyter's `normalize.less` sets `[hidden] { display: none; }`\n",
       "     but bootstrap.min.css set `[hidden] { display: none !important; }`\n",
       "     so we also need the `!important` here to be able to override the\n",
       "     default hidden behavior on the sphinx rendered scikit-learn.org.\n",
       "     See: https://github.com/scikit-learn/scikit-learn/issues/21755 */\n",
       "  display: inline-block !important;\n",
       "  position: relative;\n",
       "}\n",
       "\n",
       "#sk-container-id-1 div.sk-text-repr-fallback {\n",
       "  display: none;\n",
       "}\n",
       "\n",
       "div.sk-parallel-item,\n",
       "div.sk-serial,\n",
       "div.sk-item {\n",
       "  /* draw centered vertical line to link estimators */\n",
       "  background-image: linear-gradient(var(--sklearn-color-text-on-default-background), var(--sklearn-color-text-on-default-background));\n",
       "  background-size: 2px 100%;\n",
       "  background-repeat: no-repeat;\n",
       "  background-position: center center;\n",
       "}\n",
       "\n",
       "/* Parallel-specific style estimator block */\n",
       "\n",
       "#sk-container-id-1 div.sk-parallel-item::after {\n",
       "  content: \"\";\n",
       "  width: 100%;\n",
       "  border-bottom: 2px solid var(--sklearn-color-text-on-default-background);\n",
       "  flex-grow: 1;\n",
       "}\n",
       "\n",
       "#sk-container-id-1 div.sk-parallel {\n",
       "  display: flex;\n",
       "  align-items: stretch;\n",
       "  justify-content: center;\n",
       "  background-color: var(--sklearn-color-background);\n",
       "  position: relative;\n",
       "}\n",
       "\n",
       "#sk-container-id-1 div.sk-parallel-item {\n",
       "  display: flex;\n",
       "  flex-direction: column;\n",
       "}\n",
       "\n",
       "#sk-container-id-1 div.sk-parallel-item:first-child::after {\n",
       "  align-self: flex-end;\n",
       "  width: 50%;\n",
       "}\n",
       "\n",
       "#sk-container-id-1 div.sk-parallel-item:last-child::after {\n",
       "  align-self: flex-start;\n",
       "  width: 50%;\n",
       "}\n",
       "\n",
       "#sk-container-id-1 div.sk-parallel-item:only-child::after {\n",
       "  width: 0;\n",
       "}\n",
       "\n",
       "/* Serial-specific style estimator block */\n",
       "\n",
       "#sk-container-id-1 div.sk-serial {\n",
       "  display: flex;\n",
       "  flex-direction: column;\n",
       "  align-items: center;\n",
       "  background-color: var(--sklearn-color-background);\n",
       "  padding-right: 1em;\n",
       "  padding-left: 1em;\n",
       "}\n",
       "\n",
       "\n",
       "/* Toggleable style: style used for estimator/Pipeline/ColumnTransformer box that is\n",
       "clickable and can be expanded/collapsed.\n",
       "- Pipeline and ColumnTransformer use this feature and define the default style\n",
       "- Estimators will overwrite some part of the style using the `sk-estimator` class\n",
       "*/\n",
       "\n",
       "/* Pipeline and ColumnTransformer style (default) */\n",
       "\n",
       "#sk-container-id-1 div.sk-toggleable {\n",
       "  /* Default theme specific background. It is overwritten whether we have a\n",
       "  specific estimator or a Pipeline/ColumnTransformer */\n",
       "  background-color: var(--sklearn-color-background);\n",
       "}\n",
       "\n",
       "/* Toggleable label */\n",
       "#sk-container-id-1 label.sk-toggleable__label {\n",
       "  cursor: pointer;\n",
       "  display: flex;\n",
       "  width: 100%;\n",
       "  margin-bottom: 0;\n",
       "  padding: 0.5em;\n",
       "  box-sizing: border-box;\n",
       "  text-align: center;\n",
       "  align-items: start;\n",
       "  justify-content: space-between;\n",
       "  gap: 0.5em;\n",
       "}\n",
       "\n",
       "#sk-container-id-1 label.sk-toggleable__label .caption {\n",
       "  font-size: 0.6rem;\n",
       "  font-weight: lighter;\n",
       "  color: var(--sklearn-color-text-muted);\n",
       "}\n",
       "\n",
       "#sk-container-id-1 label.sk-toggleable__label-arrow:before {\n",
       "  /* Arrow on the left of the label */\n",
       "  content: \"▸\";\n",
       "  float: left;\n",
       "  margin-right: 0.25em;\n",
       "  color: var(--sklearn-color-icon);\n",
       "}\n",
       "\n",
       "#sk-container-id-1 label.sk-toggleable__label-arrow:hover:before {\n",
       "  color: var(--sklearn-color-text);\n",
       "}\n",
       "\n",
       "/* Toggleable content - dropdown */\n",
       "\n",
       "#sk-container-id-1 div.sk-toggleable__content {\n",
       "  max-height: 0;\n",
       "  max-width: 0;\n",
       "  overflow: hidden;\n",
       "  text-align: left;\n",
       "  /* unfitted */\n",
       "  background-color: var(--sklearn-color-unfitted-level-0);\n",
       "}\n",
       "\n",
       "#sk-container-id-1 div.sk-toggleable__content.fitted {\n",
       "  /* fitted */\n",
       "  background-color: var(--sklearn-color-fitted-level-0);\n",
       "}\n",
       "\n",
       "#sk-container-id-1 div.sk-toggleable__content pre {\n",
       "  margin: 0.2em;\n",
       "  border-radius: 0.25em;\n",
       "  color: var(--sklearn-color-text);\n",
       "  /* unfitted */\n",
       "  background-color: var(--sklearn-color-unfitted-level-0);\n",
       "}\n",
       "\n",
       "#sk-container-id-1 div.sk-toggleable__content.fitted pre {\n",
       "  /* unfitted */\n",
       "  background-color: var(--sklearn-color-fitted-level-0);\n",
       "}\n",
       "\n",
       "#sk-container-id-1 input.sk-toggleable__control:checked~div.sk-toggleable__content {\n",
       "  /* Expand drop-down */\n",
       "  max-height: 200px;\n",
       "  max-width: 100%;\n",
       "  overflow: auto;\n",
       "}\n",
       "\n",
       "#sk-container-id-1 input.sk-toggleable__control:checked~label.sk-toggleable__label-arrow:before {\n",
       "  content: \"▾\";\n",
       "}\n",
       "\n",
       "/* Pipeline/ColumnTransformer-specific style */\n",
       "\n",
       "#sk-container-id-1 div.sk-label input.sk-toggleable__control:checked~label.sk-toggleable__label {\n",
       "  color: var(--sklearn-color-text);\n",
       "  background-color: var(--sklearn-color-unfitted-level-2);\n",
       "}\n",
       "\n",
       "#sk-container-id-1 div.sk-label.fitted input.sk-toggleable__control:checked~label.sk-toggleable__label {\n",
       "  background-color: var(--sklearn-color-fitted-level-2);\n",
       "}\n",
       "\n",
       "/* Estimator-specific style */\n",
       "\n",
       "/* Colorize estimator box */\n",
       "#sk-container-id-1 div.sk-estimator input.sk-toggleable__control:checked~label.sk-toggleable__label {\n",
       "  /* unfitted */\n",
       "  background-color: var(--sklearn-color-unfitted-level-2);\n",
       "}\n",
       "\n",
       "#sk-container-id-1 div.sk-estimator.fitted input.sk-toggleable__control:checked~label.sk-toggleable__label {\n",
       "  /* fitted */\n",
       "  background-color: var(--sklearn-color-fitted-level-2);\n",
       "}\n",
       "\n",
       "#sk-container-id-1 div.sk-label label.sk-toggleable__label,\n",
       "#sk-container-id-1 div.sk-label label {\n",
       "  /* The background is the default theme color */\n",
       "  color: var(--sklearn-color-text-on-default-background);\n",
       "}\n",
       "\n",
       "/* On hover, darken the color of the background */\n",
       "#sk-container-id-1 div.sk-label:hover label.sk-toggleable__label {\n",
       "  color: var(--sklearn-color-text);\n",
       "  background-color: var(--sklearn-color-unfitted-level-2);\n",
       "}\n",
       "\n",
       "/* Label box, darken color on hover, fitted */\n",
       "#sk-container-id-1 div.sk-label.fitted:hover label.sk-toggleable__label.fitted {\n",
       "  color: var(--sklearn-color-text);\n",
       "  background-color: var(--sklearn-color-fitted-level-2);\n",
       "}\n",
       "\n",
       "/* Estimator label */\n",
       "\n",
       "#sk-container-id-1 div.sk-label label {\n",
       "  font-family: monospace;\n",
       "  font-weight: bold;\n",
       "  display: inline-block;\n",
       "  line-height: 1.2em;\n",
       "}\n",
       "\n",
       "#sk-container-id-1 div.sk-label-container {\n",
       "  text-align: center;\n",
       "}\n",
       "\n",
       "/* Estimator-specific */\n",
       "#sk-container-id-1 div.sk-estimator {\n",
       "  font-family: monospace;\n",
       "  border: 1px dotted var(--sklearn-color-border-box);\n",
       "  border-radius: 0.25em;\n",
       "  box-sizing: border-box;\n",
       "  margin-bottom: 0.5em;\n",
       "  /* unfitted */\n",
       "  background-color: var(--sklearn-color-unfitted-level-0);\n",
       "}\n",
       "\n",
       "#sk-container-id-1 div.sk-estimator.fitted {\n",
       "  /* fitted */\n",
       "  background-color: var(--sklearn-color-fitted-level-0);\n",
       "}\n",
       "\n",
       "/* on hover */\n",
       "#sk-container-id-1 div.sk-estimator:hover {\n",
       "  /* unfitted */\n",
       "  background-color: var(--sklearn-color-unfitted-level-2);\n",
       "}\n",
       "\n",
       "#sk-container-id-1 div.sk-estimator.fitted:hover {\n",
       "  /* fitted */\n",
       "  background-color: var(--sklearn-color-fitted-level-2);\n",
       "}\n",
       "\n",
       "/* Specification for estimator info (e.g. \"i\" and \"?\") */\n",
       "\n",
       "/* Common style for \"i\" and \"?\" */\n",
       "\n",
       ".sk-estimator-doc-link,\n",
       "a:link.sk-estimator-doc-link,\n",
       "a:visited.sk-estimator-doc-link {\n",
       "  float: right;\n",
       "  font-size: smaller;\n",
       "  line-height: 1em;\n",
       "  font-family: monospace;\n",
       "  background-color: var(--sklearn-color-background);\n",
       "  border-radius: 1em;\n",
       "  height: 1em;\n",
       "  width: 1em;\n",
       "  text-decoration: none !important;\n",
       "  margin-left: 0.5em;\n",
       "  text-align: center;\n",
       "  /* unfitted */\n",
       "  border: var(--sklearn-color-unfitted-level-1) 1pt solid;\n",
       "  color: var(--sklearn-color-unfitted-level-1);\n",
       "}\n",
       "\n",
       ".sk-estimator-doc-link.fitted,\n",
       "a:link.sk-estimator-doc-link.fitted,\n",
       "a:visited.sk-estimator-doc-link.fitted {\n",
       "  /* fitted */\n",
       "  border: var(--sklearn-color-fitted-level-1) 1pt solid;\n",
       "  color: var(--sklearn-color-fitted-level-1);\n",
       "}\n",
       "\n",
       "/* On hover */\n",
       "div.sk-estimator:hover .sk-estimator-doc-link:hover,\n",
       ".sk-estimator-doc-link:hover,\n",
       "div.sk-label-container:hover .sk-estimator-doc-link:hover,\n",
       ".sk-estimator-doc-link:hover {\n",
       "  /* unfitted */\n",
       "  background-color: var(--sklearn-color-unfitted-level-3);\n",
       "  color: var(--sklearn-color-background);\n",
       "  text-decoration: none;\n",
       "}\n",
       "\n",
       "div.sk-estimator.fitted:hover .sk-estimator-doc-link.fitted:hover,\n",
       ".sk-estimator-doc-link.fitted:hover,\n",
       "div.sk-label-container:hover .sk-estimator-doc-link.fitted:hover,\n",
       ".sk-estimator-doc-link.fitted:hover {\n",
       "  /* fitted */\n",
       "  background-color: var(--sklearn-color-fitted-level-3);\n",
       "  color: var(--sklearn-color-background);\n",
       "  text-decoration: none;\n",
       "}\n",
       "\n",
       "/* Span, style for the box shown on hovering the info icon */\n",
       ".sk-estimator-doc-link span {\n",
       "  display: none;\n",
       "  z-index: 9999;\n",
       "  position: relative;\n",
       "  font-weight: normal;\n",
       "  right: .2ex;\n",
       "  padding: .5ex;\n",
       "  margin: .5ex;\n",
       "  width: min-content;\n",
       "  min-width: 20ex;\n",
       "  max-width: 50ex;\n",
       "  color: var(--sklearn-color-text);\n",
       "  box-shadow: 2pt 2pt 4pt #999;\n",
       "  /* unfitted */\n",
       "  background: var(--sklearn-color-unfitted-level-0);\n",
       "  border: .5pt solid var(--sklearn-color-unfitted-level-3);\n",
       "}\n",
       "\n",
       ".sk-estimator-doc-link.fitted span {\n",
       "  /* fitted */\n",
       "  background: var(--sklearn-color-fitted-level-0);\n",
       "  border: var(--sklearn-color-fitted-level-3);\n",
       "}\n",
       "\n",
       ".sk-estimator-doc-link:hover span {\n",
       "  display: block;\n",
       "}\n",
       "\n",
       "/* \"?\"-specific style due to the `<a>` HTML tag */\n",
       "\n",
       "#sk-container-id-1 a.estimator_doc_link {\n",
       "  float: right;\n",
       "  font-size: 1rem;\n",
       "  line-height: 1em;\n",
       "  font-family: monospace;\n",
       "  background-color: var(--sklearn-color-background);\n",
       "  border-radius: 1rem;\n",
       "  height: 1rem;\n",
       "  width: 1rem;\n",
       "  text-decoration: none;\n",
       "  /* unfitted */\n",
       "  color: var(--sklearn-color-unfitted-level-1);\n",
       "  border: var(--sklearn-color-unfitted-level-1) 1pt solid;\n",
       "}\n",
       "\n",
       "#sk-container-id-1 a.estimator_doc_link.fitted {\n",
       "  /* fitted */\n",
       "  border: var(--sklearn-color-fitted-level-1) 1pt solid;\n",
       "  color: var(--sklearn-color-fitted-level-1);\n",
       "}\n",
       "\n",
       "/* On hover */\n",
       "#sk-container-id-1 a.estimator_doc_link:hover {\n",
       "  /* unfitted */\n",
       "  background-color: var(--sklearn-color-unfitted-level-3);\n",
       "  color: var(--sklearn-color-background);\n",
       "  text-decoration: none;\n",
       "}\n",
       "\n",
       "#sk-container-id-1 a.estimator_doc_link.fitted:hover {\n",
       "  /* fitted */\n",
       "  background-color: var(--sklearn-color-fitted-level-3);\n",
       "}\n",
       "</style><div id=\"sk-container-id-1\" class=\"sk-top-container\"><div class=\"sk-text-repr-fallback\"><pre>LGBMClassifier()</pre><b>In a Jupyter environment, please rerun this cell to show the HTML representation or trust the notebook. <br />On GitHub, the HTML representation is unable to render, please try loading this page with nbviewer.org.</b></div><div class=\"sk-container\" hidden><div class=\"sk-item\"><div class=\"sk-estimator fitted sk-toggleable\"><input class=\"sk-toggleable__control sk-hidden--visually\" id=\"sk-estimator-id-1\" type=\"checkbox\" checked><label for=\"sk-estimator-id-1\" class=\"sk-toggleable__label fitted sk-toggleable__label-arrow\"><div><div>LGBMClassifier</div></div><div><span class=\"sk-estimator-doc-link fitted\">i<span>Fitted</span></span></div></label><div class=\"sk-toggleable__content fitted\"><pre>LGBMClassifier()</pre></div> </div></div></div></div>"
      ],
      "text/plain": [
       "LGBMClassifier()"
      ]
     },
     "execution_count": 84,
     "metadata": {},
     "output_type": "execute_result"
    }
   ],
   "source": [
    "model.fit(X_train, y_train)"
   ]
  },
  {
   "cell_type": "code",
   "execution_count": 91,
   "metadata": {},
   "outputs": [],
   "source": [
    "if len(y_test.shape) > 1:\n",
    "    y_test = y_test.ravel()"
   ]
  },
  {
   "cell_type": "code",
   "execution_count": 93,
   "metadata": {},
   "outputs": [],
   "source": [
    "if isinstance(X_test, pd.DataFrame):\n",
    "    X_test = X_test.values  # Convert to NumPy array\n",
    "if isinstance(y_test, pd.Series):\n",
    "    y_test = y_test.values  # Convert to NumPy array"
   ]
  },
  {
   "cell_type": "code",
   "execution_count": 95,
   "metadata": {},
   "outputs": [
    {
     "name": "stdout",
     "output_type": "stream",
     "text": [
      "X_test type: <class 'numpy.ndarray'>, shape: (194869, 2244)\n",
      "y_test type: <class 'numpy.ndarray'>, shape: (3507642,)\n",
      "y_pred type: <class 'numpy.ndarray'>, shape: (194869,)\n"
     ]
    }
   ],
   "source": [
    "print(f\"X_test type: {type(X_test)}, shape: {X_test.shape}\")\n",
    "print(f\"y_test type: {type(y_test)}, shape: {y_test.shape}\")\n",
    "print(f\"y_pred type: {type(y_pred)}, shape: {y_pred.shape}\")"
   ]
  },
  {
   "cell_type": "code",
   "execution_count": 97,
   "metadata": {},
   "outputs": [
    {
     "name": "stdout",
     "output_type": "stream",
     "text": [
      "X_test shape: (194869, 2244)\n",
      "y_pred shape: (194869,)\n"
     ]
    }
   ],
   "source": [
    "print(f\"X_test shape: {X_test.shape}\")  # Should match y_pred.shape[0]\n",
    "print(f\"y_pred shape: {y_pred.shape}\")"
   ]
  },
  {
   "cell_type": "code",
   "execution_count": 98,
   "metadata": {},
   "outputs": [],
   "source": [
    "y_test = y_test[:X_test.shape[0]]"
   ]
  },
  {
   "cell_type": "code",
   "execution_count": 99,
   "metadata": {},
   "outputs": [
    {
     "name": "stdout",
     "output_type": "stream",
     "text": [
      "Accuracy: 0.9517829926771318\n"
     ]
    }
   ],
   "source": [
    "y_pred = model.predict(X_test)  # Predict on test data\n",
    "print(\"Accuracy:\", accuracy_score(y_test, y_pred))  # Evaluate performance"
   ]
  },
  {
   "cell_type": "code",
   "execution_count": 100,
   "metadata": {},
   "outputs": [
    {
     "data": {
      "text/plain": [
       "['ipl_prediction_model.pkl']"
      ]
     },
     "execution_count": 100,
     "metadata": {},
     "output_type": "execute_result"
    }
   ],
   "source": [
    "import joblib\n",
    "joblib.dump(model, \"ipl_prediction_model.pkl\")"
   ]
  }
 ],
 "metadata": {
  "kernelspec": {
   "display_name": "Python 3",
   "language": "python",
   "name": "python3"
  },
  "language_info": {
   "codemirror_mode": {
    "name": "ipython",
    "version": 3
   },
   "file_extension": ".py",
   "mimetype": "text/x-python",
   "name": "python",
   "nbconvert_exporter": "python",
   "pygments_lexer": "ipython3",
   "version": "3.13.2"
  }
 },
 "nbformat": 4,
 "nbformat_minor": 2
}
